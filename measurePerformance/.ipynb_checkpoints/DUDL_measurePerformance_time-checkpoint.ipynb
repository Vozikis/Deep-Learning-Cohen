{
 "cells": [
  {
   "cell_type": "markdown",
   "metadata": {
    "id": "bhWV8oes-wKR"
   },
   "source": [
    "# COURSE: A deep understanding of deep learning\n",
    "## SECTION: Measuring model performance\n",
    "### LECTURE: Computation time\n",
    "#### TEACHER: Mike X Cohen, sincxpress.com\n",
    "##### COURSE URL: udemy.com/course/deeplearning_x/?couponCode=202212"
   ]
  },
  {
   "cell_type": "code",
   "execution_count": 1,
   "metadata": {
    "id": "YeuAheYyhdZw"
   },
   "outputs": [
    {
     "name": "stderr",
     "output_type": "stream",
     "text": [
      "/var/folders/f2/gq8xgm9x491cqwtct_tgpy0h0000gn/T/ipykernel_55698/3395215371.py:16: DeprecationWarning: `set_matplotlib_formats` is deprecated since IPython 7.23, directly use `matplotlib_inline.backend_inline.set_matplotlib_formats()`\n",
      "  display.set_matplotlib_formats('svg')\n"
     ]
    }
   ],
   "source": [
    "# import libraries\n",
    "import numpy as np\n",
    "\n",
    "import torch\n",
    "import torch.nn as nn\n",
    "import torch.nn.functional as F\n",
    "from torch.utils.data import DataLoader\n",
    "from sklearn.model_selection import train_test_split\n",
    "\n",
    "# New!\n",
    "import time\n",
    "# Well, OK, it's not really new. See, e.g., DUDL_metaparams_CodeChallengeBatches\n",
    "\n",
    "import matplotlib.pyplot as plt\n",
    "from IPython import display\n",
    "display.set_matplotlib_formats('svg')"
   ]
  },
  {
   "cell_type": "markdown",
   "metadata": {
    "id": "0HOkOefftqyg"
   },
   "source": [
    "# Import and process the data"
   ]
  },
  {
   "cell_type": "code",
   "execution_count": 2,
   "metadata": {
    "id": "MU7rvmWuhjud"
   },
   "outputs": [],
   "source": [
    "# import dataset (comes with colab!)\n",
    "data = np.loadtxt(open('mnist_train_small.csv','rb'),delimiter=',')\n",
    "\n",
    "# extract labels (number IDs) and remove from data\n",
    "labels = data[:,0]\n",
    "data   = data[:,1:]\n",
    "\n",
    "# normalize the data to a range of [0 1]\n",
    "dataNorm = data / np.max(data)"
   ]
  },
  {
   "cell_type": "markdown",
   "metadata": {
    "id": "OhLQ2YSvpiGj"
   },
   "source": [
    "# Create train/test groups using DataLoader"
   ]
  },
  {
   "cell_type": "code",
   "execution_count": 3,
   "metadata": {
    "id": "Y_tZ1ymVp0Sf"
   },
   "outputs": [],
   "source": [
    "# Step 1: convert to tensor\n",
    "dataT   = torch.tensor( dataNorm ).float()\n",
    "labelsT = torch.tensor( labels ).long()\n",
    "\n",
    "# Step 2: use scikitlearn to split the data\n",
    "train_data,test_data, train_labels,test_labels = train_test_split(dataT, labelsT, test_size=.1)\n",
    "\n",
    "\n",
    "# Step 3: convert into PyTorch Datasets\n",
    "train_data = torch.utils.data.TensorDataset(train_data,train_labels)\n",
    "test_data  = torch.utils.data.TensorDataset(test_data,test_labels)\n",
    "\n",
    "# Step 4: translate into dataloader objects\n",
    "batchsize  = 32\n",
    "train_loader = DataLoader(train_data,batch_size=batchsize,shuffle=True,drop_last=True)\n",
    "test_loader  = DataLoader(test_data,batch_size=test_data.tensors[0].shape[0])"
   ]
  },
  {
   "cell_type": "markdown",
   "metadata": {
    "id": "OK8Opkhgp0bO"
   },
   "source": [
    "# Create the DL model"
   ]
  },
  {
   "cell_type": "code",
   "execution_count": 4,
   "metadata": {
    "id": "JK3OO3tAtZkA"
   },
   "outputs": [],
   "source": [
    "# create a class for the model\n",
    "def createTheMNISTNet():\n",
    "\n",
    "  class mnistNet(nn.Module):\n",
    "    def __init__(self):\n",
    "      super().__init__()\n",
    "\n",
    "      ### input layer\n",
    "      self.input = nn.Linear(784,64)\n",
    "      \n",
    "      ### hidden layer\n",
    "      self.fc1 = nn.Linear(64,32)\n",
    "      self.fc2 = nn.Linear(32,32)\n",
    "\n",
    "      ### output layer\n",
    "      self.output = nn.Linear(32,10)\n",
    "\n",
    "    # forward pass\n",
    "    def forward(self,x):\n",
    "      x = F.relu( self.input(x) )\n",
    "      x = F.relu( self.fc1(x) )\n",
    "      x = F.relu( self.fc2(x) )\n",
    "      return self.output(x)\n",
    "  \n",
    "  # create the model instance\n",
    "  net = mnistNet()\n",
    "  \n",
    "  # loss function\n",
    "  lossfun = nn.CrossEntropyLoss()\n",
    "\n",
    "  # optimizer\n",
    "  optimizer = torch.optim.Adam(net.parameters(),lr=.01)\n",
    "\n",
    "  return net,lossfun,optimizer"
   ]
  },
  {
   "cell_type": "markdown",
   "metadata": {
    "id": "dvfGQIRGp0ht"
   },
   "source": [
    "# Create a function that trains the model"
   ]
  },
  {
   "cell_type": "code",
   "execution_count": 5,
   "metadata": {
    "id": "IblJo1NCp0kl"
   },
   "outputs": [],
   "source": [
    "def funtion2trainTheModel():\n",
    "\n",
    "  # Start the timer!\n",
    "  timerInFunction = time.process_time()\n",
    "\n",
    "  # number of epochs\n",
    "  numepochs = 10\n",
    "  \n",
    "  # create a new model\n",
    "  net,lossfun,optimizer = createTheMNISTNet()\n",
    "\n",
    "  # initialize losses\n",
    "  losses    = torch.zeros(numepochs)\n",
    "  trainAcc  = []\n",
    "  testAcc   = []\n",
    "\n",
    "\n",
    "  # loop over epochs\n",
    "  for epochi in range(numepochs):\n",
    "\n",
    "    # loop over training data batches\n",
    "    batchAcc  = []\n",
    "    batchLoss = []\n",
    "    for X,y in train_loader:\n",
    "\n",
    "      # forward pass and loss\n",
    "      yHat = net(X)\n",
    "      loss = lossfun(yHat,y)\n",
    "\n",
    "      # backprop\n",
    "      optimizer.zero_grad()\n",
    "      loss.backward()\n",
    "      optimizer.step()\n",
    "\n",
    "      # loss from this batch\n",
    "      batchLoss.append(loss.item())\n",
    "\n",
    "      # compute accuracy\n",
    "      matches = torch.argmax(yHat,axis=1) == y     # booleans (false/true)\n",
    "      matchesNumeric = matches.float()             # convert to numbers (0/1)\n",
    "      accuracyPct = 100*torch.mean(matchesNumeric) # average and x100\n",
    "      batchAcc.append( accuracyPct )               # add to list of accuracies\n",
    "    # end of batch loop...\n",
    "\n",
    "    # now that we've trained through the batches, get their average training accuracy\n",
    "    trainAcc.append( np.mean(batchAcc) )\n",
    "\n",
    "    # and get average losses across the batches\n",
    "    losses[epochi] = np.mean(batchLoss)\n",
    "\n",
    "    # test accuracy\n",
    "    X,y = next(iter(test_loader)) # extract X,y from test dataloader\n",
    "    with torch.no_grad(): # deactivates autograd\n",
    "      yHat = net(X)\n",
    "      \n",
    "    # compare the following really long line of code to the training accuracy lines\n",
    "    testAcc.append( 100*torch.mean((torch.argmax(yHat,axis=1)==y).float()) )\n",
    "\n",
    "    # Finally, report the epoch number, computation time, and accuracy\n",
    "    comptime = time.process_time() - timerInFunction\n",
    "    print(f'Epoch {epochi+1}/{numepochs}, elapsed time: {comptime:.2f} sec, test accuracy {testAcc[-1]:.0f}%')\n",
    "\n",
    "  # end epochs\n",
    "\n",
    "  # function output\n",
    "  return trainAcc,testAcc,losses,net"
   ]
  },
  {
   "cell_type": "markdown",
   "metadata": {
    "id": "XpGm9xdQ27Ob"
   },
   "source": [
    "# Run the model and show the results!"
   ]
  },
  {
   "cell_type": "code",
   "execution_count": 6,
   "metadata": {
    "id": "l9pCC1R2p0nu"
   },
   "outputs": [
    {
     "name": "stdout",
     "output_type": "stream",
     "text": [
      "Epoch 1/10, elapsed time: 0.57 sec, test accuracy 92%\n",
      "Epoch 2/10, elapsed time: 1.10 sec, test accuracy 92%\n",
      "Epoch 3/10, elapsed time: 1.64 sec, test accuracy 95%\n",
      "Epoch 4/10, elapsed time: 2.17 sec, test accuracy 94%\n",
      "Epoch 5/10, elapsed time: 2.70 sec, test accuracy 94%\n",
      "Epoch 6/10, elapsed time: 3.23 sec, test accuracy 94%\n",
      "Epoch 7/10, elapsed time: 3.80 sec, test accuracy 95%\n",
      "Epoch 8/10, elapsed time: 4.34 sec, test accuracy 94%\n",
      "Epoch 9/10, elapsed time: 4.92 sec, test accuracy 95%\n",
      "Epoch 10/10, elapsed time: 5.46 sec, test accuracy 95%\n"
     ]
    }
   ],
   "source": [
    "trainAcc,testAcc,losses,net = funtion2trainTheModel()"
   ]
  },
  {
   "cell_type": "code",
   "execution_count": 7,
   "metadata": {
    "id": "gHzKOZjnp0qn"
   },
   "outputs": [
    {
     "name": "stdout",
     "output_type": "stream",
     "text": [
      "Epoch 1/10, elapsed time: 0.55 sec, test accuracy 92%\n",
      "Epoch 2/10, elapsed time: 1.09 sec, test accuracy 94%\n",
      "Epoch 3/10, elapsed time: 1.64 sec, test accuracy 94%\n",
      "Epoch 4/10, elapsed time: 2.18 sec, test accuracy 93%\n",
      "Epoch 5/10, elapsed time: 2.74 sec, test accuracy 95%\n",
      "Epoch 6/10, elapsed time: 3.27 sec, test accuracy 94%\n",
      "Epoch 7/10, elapsed time: 3.84 sec, test accuracy 94%\n",
      "Epoch 8/10, elapsed time: 4.38 sec, test accuracy 94%\n",
      "Epoch 9/10, elapsed time: 4.90 sec, test accuracy 95%\n",
      "Epoch 10/10, elapsed time: 5.44 sec, test accuracy 95%\n",
      "Epoch 1/10, elapsed time: 0.55 sec, test accuracy 91%\n",
      "Epoch 2/10, elapsed time: 1.11 sec, test accuracy 94%\n",
      "Epoch 3/10, elapsed time: 1.68 sec, test accuracy 94%\n",
      "Epoch 4/10, elapsed time: 2.25 sec, test accuracy 94%\n",
      "Epoch 5/10, elapsed time: 2.83 sec, test accuracy 94%\n",
      "Epoch 6/10, elapsed time: 3.45 sec, test accuracy 94%\n",
      "Epoch 7/10, elapsed time: 4.00 sec, test accuracy 94%\n",
      "Epoch 8/10, elapsed time: 4.57 sec, test accuracy 95%\n",
      "Epoch 9/10, elapsed time: 5.14 sec, test accuracy 93%\n",
      "Epoch 10/10, elapsed time: 5.71 sec, test accuracy 95%\n",
      "Epoch 1/10, elapsed time: 0.53 sec, test accuracy 92%\n",
      "Epoch 2/10, elapsed time: 1.06 sec, test accuracy 93%\n",
      "Epoch 3/10, elapsed time: 1.60 sec, test accuracy 95%\n",
      "Epoch 4/10, elapsed time: 2.12 sec, test accuracy 95%\n",
      "Epoch 5/10, elapsed time: 2.66 sec, test accuracy 95%\n",
      "Epoch 6/10, elapsed time: 3.20 sec, test accuracy 94%\n",
      "Epoch 7/10, elapsed time: 3.72 sec, test accuracy 95%\n",
      "Epoch 8/10, elapsed time: 4.26 sec, test accuracy 95%\n",
      "Epoch 9/10, elapsed time: 4.79 sec, test accuracy 95%\n",
      "Epoch 10/10, elapsed time: 5.35 sec, test accuracy 96%\n",
      "Epoch 1/10, elapsed time: 0.56 sec, test accuracy 91%\n",
      "Epoch 2/10, elapsed time: 1.10 sec, test accuracy 93%\n",
      "Epoch 3/10, elapsed time: 1.65 sec, test accuracy 92%\n",
      "Epoch 4/10, elapsed time: 2.19 sec, test accuracy 94%\n",
      "Epoch 5/10, elapsed time: 2.75 sec, test accuracy 94%\n",
      "Epoch 6/10, elapsed time: 3.33 sec, test accuracy 94%\n",
      "Epoch 7/10, elapsed time: 3.87 sec, test accuracy 95%\n",
      "Epoch 8/10, elapsed time: 4.43 sec, test accuracy 95%\n",
      "Epoch 9/10, elapsed time: 4.98 sec, test accuracy 94%\n",
      "Epoch 10/10, elapsed time: 5.54 sec, test accuracy 94%\n",
      "Epoch 1/10, elapsed time: 0.55 sec, test accuracy 91%\n",
      "Epoch 2/10, elapsed time: 1.08 sec, test accuracy 93%\n",
      "Epoch 3/10, elapsed time: 1.64 sec, test accuracy 92%\n",
      "Epoch 4/10, elapsed time: 2.22 sec, test accuracy 93%\n",
      "Epoch 5/10, elapsed time: 2.79 sec, test accuracy 95%\n",
      "Epoch 6/10, elapsed time: 3.34 sec, test accuracy 95%\n",
      "Epoch 7/10, elapsed time: 3.91 sec, test accuracy 94%\n",
      "Epoch 8/10, elapsed time: 4.46 sec, test accuracy 94%\n",
      "Epoch 9/10, elapsed time: 5.02 sec, test accuracy 95%\n",
      "Epoch 10/10, elapsed time: 5.59 sec, test accuracy 95%\n",
      "Epoch 1/10, elapsed time: 0.56 sec, test accuracy 92%\n",
      "Epoch 2/10, elapsed time: 1.12 sec, test accuracy 92%\n",
      "Epoch 3/10, elapsed time: 1.67 sec, test accuracy 95%\n",
      "Epoch 4/10, elapsed time: 2.23 sec, test accuracy 94%\n",
      "Epoch 5/10, elapsed time: 2.82 sec, test accuracy 94%\n",
      "Epoch 6/10, elapsed time: 3.44 sec, test accuracy 94%\n",
      "Epoch 7/10, elapsed time: 4.02 sec, test accuracy 95%\n",
      "Epoch 8/10, elapsed time: 4.57 sec, test accuracy 95%\n",
      "Epoch 9/10, elapsed time: 5.13 sec, test accuracy 94%\n",
      "Epoch 10/10, elapsed time: 5.69 sec, test accuracy 94%\n",
      "Epoch 1/10, elapsed time: 0.56 sec, test accuracy 93%\n",
      "Epoch 2/10, elapsed time: 1.14 sec, test accuracy 93%\n",
      "Epoch 3/10, elapsed time: 1.70 sec, test accuracy 94%\n",
      "Epoch 4/10, elapsed time: 2.26 sec, test accuracy 94%\n",
      "Epoch 5/10, elapsed time: 2.83 sec, test accuracy 93%\n",
      "Epoch 6/10, elapsed time: 3.39 sec, test accuracy 94%\n",
      "Epoch 7/10, elapsed time: 3.95 sec, test accuracy 94%\n",
      "Epoch 8/10, elapsed time: 4.51 sec, test accuracy 95%\n",
      "Epoch 9/10, elapsed time: 5.06 sec, test accuracy 94%\n",
      "Epoch 10/10, elapsed time: 5.62 sec, test accuracy 94%\n",
      "Epoch 1/10, elapsed time: 0.53 sec, test accuracy 92%\n",
      "Epoch 2/10, elapsed time: 1.06 sec, test accuracy 92%\n",
      "Epoch 3/10, elapsed time: 1.59 sec, test accuracy 94%\n",
      "Epoch 4/10, elapsed time: 2.12 sec, test accuracy 94%\n",
      "Epoch 5/10, elapsed time: 2.66 sec, test accuracy 94%\n",
      "Epoch 6/10, elapsed time: 3.19 sec, test accuracy 94%\n",
      "Epoch 7/10, elapsed time: 3.72 sec, test accuracy 95%\n",
      "Epoch 8/10, elapsed time: 4.29 sec, test accuracy 94%\n",
      "Epoch 9/10, elapsed time: 4.83 sec, test accuracy 94%\n",
      "Epoch 10/10, elapsed time: 5.36 sec, test accuracy 94%\n",
      "Epoch 1/10, elapsed time: 0.54 sec, test accuracy 92%\n",
      "Epoch 2/10, elapsed time: 1.07 sec, test accuracy 94%\n",
      "Epoch 3/10, elapsed time: 1.61 sec, test accuracy 94%\n",
      "Epoch 4/10, elapsed time: 2.13 sec, test accuracy 94%\n",
      "Epoch 5/10, elapsed time: 2.68 sec, test accuracy 95%\n",
      "Epoch 6/10, elapsed time: 3.21 sec, test accuracy 95%\n",
      "Epoch 7/10, elapsed time: 3.74 sec, test accuracy 94%\n",
      "Epoch 8/10, elapsed time: 4.28 sec, test accuracy 94%\n",
      "Epoch 9/10, elapsed time: 4.85 sec, test accuracy 95%\n",
      "Epoch 10/10, elapsed time: 5.38 sec, test accuracy 95%\n",
      "Epoch 1/10, elapsed time: 0.54 sec, test accuracy 91%\n",
      "Epoch 2/10, elapsed time: 1.08 sec, test accuracy 94%\n",
      "Epoch 3/10, elapsed time: 1.62 sec, test accuracy 94%\n",
      "Epoch 4/10, elapsed time: 2.16 sec, test accuracy 94%\n",
      "Epoch 5/10, elapsed time: 2.70 sec, test accuracy 95%\n",
      "Epoch 6/10, elapsed time: 3.24 sec, test accuracy 94%\n",
      "Epoch 7/10, elapsed time: 3.76 sec, test accuracy 95%\n",
      "Epoch 8/10, elapsed time: 4.29 sec, test accuracy 95%\n",
      "Epoch 9/10, elapsed time: 4.84 sec, test accuracy 94%\n",
      "Epoch 10/10, elapsed time: 5.40 sec, test accuracy 95%\n",
      "\n",
      "\n",
      "\n",
      "Total elapsed experiment time: 0.92 minutes\n"
     ]
    }
   ],
   "source": [
    "# now run a second timer over repeated iterations\n",
    "\n",
    "# Start the timer! (note the different variable name)\n",
    "timerOutsideFunction = time.process_time()\n",
    "\n",
    "for i in range(10):\n",
    "  funtion2trainTheModel()\n",
    "\n",
    "TotalExperimentTime = time.process_time() - timerOutsideFunction\n",
    "print(f'\\n\\n\\nTotal elapsed experiment time: {TotalExperimentTime/60:.2f} minutes')"
   ]
  },
  {
   "cell_type": "code",
   "execution_count": null,
   "metadata": {
    "id": "VOsqp9Dosb1i"
   },
   "outputs": [],
   "source": []
  },
  {
   "cell_type": "markdown",
   "metadata": {
    "id": "7KP-981UsbjS"
   },
   "source": [
    "# Additional explorations"
   ]
  },
  {
   "cell_type": "code",
   "execution_count": null,
   "metadata": {
    "id": "JdnIdmBjsd2U"
   },
   "outputs": [],
   "source": [
    "# 1) Modify the TotalExperimentTime code so that it prints minutes and seconds. For example, 500 seconds is \n",
    "#    8 minutes and 20 seconds.\n",
    "# \n",
    "# 2) Modify the code inside the training function so that the display prints on only every 5th epoch.\n",
    "# "
   ]
  }
 ],
 "metadata": {
  "colab": {
   "authorship_tag": "ABX9TyOgL+NeAl9XXBKpC//EdcCi",
   "collapsed_sections": [],
   "name": "DUDL_measurePerformance_time.ipynb",
   "provenance": [
    {
     "file_id": "13SFr82QoaJr9so_o_rSl1L9WbOMXpUSR",
     "timestamp": 1618861176115
    },
    {
     "file_id": "1FcEBC0NAESIlHQkv6_85R-XDUKGE8XbM",
     "timestamp": 1618848117844
    },
    {
     "file_id": "1qKgZ8kVcqNgwtBzHbWq5yJH_HqI6DxWW",
     "timestamp": 1617803880910
    },
    {
     "file_id": "15cpyHkJ435B4MqbyGjAH1poN4nCy_DE4",
     "timestamp": 1617737766196
    },
    {
     "file_id": "1OLuWuaFu0hcFgkQ2hh5BqbRuqUZD7XcQ",
     "timestamp": 1617734878578
    },
    {
     "file_id": "1XvzVGJPTJifVh8OpZVB7ykLxyUqYwQ1j",
     "timestamp": 1617196833019
    },
    {
     "file_id": "1bv1_y32e3KEExFKKlPfC3rpw1JxmBr8H",
     "timestamp": 1617124341706
    },
    {
     "file_id": "1GMq8u7KyHB2AE7Teyls9gK1T01OduQSn",
     "timestamp": 1616697516760
    },
    {
     "file_id": "1Ui3kyHim-e0XLgDs2mkBxVlYg7TKYtcg",
     "timestamp": 1616615469755
    },
    {
     "file_id": "1YpHocGI4rApOxIBb1ZghCU5L-hFnv4CK",
     "timestamp": 1616608248670
    }
   ]
  },
  "kernelspec": {
   "display_name": "Python 3 (ipykernel)",
   "language": "python",
   "name": "python3"
  },
  "language_info": {
   "codemirror_mode": {
    "name": "ipython",
    "version": 3
   },
   "file_extension": ".py",
   "mimetype": "text/x-python",
   "name": "python",
   "nbconvert_exporter": "python",
   "pygments_lexer": "ipython3",
   "version": "3.8.13"
  }
 },
 "nbformat": 4,
 "nbformat_minor": 1
}
