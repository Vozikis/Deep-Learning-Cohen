{
 "cells": [
  {
   "cell_type": "markdown",
   "metadata": {
    "id": "bhWV8oes-wKR"
   },
   "source": [
    "# COURSE: A deep understanding of deep learning\n",
    "## SECTION: FFNs\n",
    "### LECTURE: Distributions of weights pre- and post-learning\n",
    "#### TEACHER: Mike X Cohen, sincxpress.com\n",
    "##### COURSE URL: udemy.com/course/deeplearning_x/?couponCode=202212"
   ]
  },
  {
   "cell_type": "code",
   "execution_count": 1,
   "metadata": {
    "id": "YeuAheYyhdZw"
   },
   "outputs": [
    {
     "name": "stderr",
     "output_type": "stream",
     "text": [
      "/var/folders/f2/gq8xgm9x491cqwtct_tgpy0h0000gn/T/ipykernel_32682/2889067548.py:12: DeprecationWarning: `set_matplotlib_formats` is deprecated since IPython 7.23, directly use `matplotlib_inline.backend_inline.set_matplotlib_formats()`\n",
      "  display.set_matplotlib_formats('svg')\n"
     ]
    }
   ],
   "source": [
    "# import libraries\n",
    "import numpy as np\n",
    "\n",
    "import torch\n",
    "import torch.nn as nn\n",
    "import torch.nn.functional as F\n",
    "from torch.utils.data import DataLoader,TensorDataset\n",
    "from sklearn.model_selection import train_test_split\n",
    "\n",
    "import matplotlib.pyplot as plt\n",
    "from IPython import display\n",
    "display.set_matplotlib_formats('svg')"
   ]
  },
  {
   "cell_type": "code",
   "execution_count": 2,
   "metadata": {
    "id": "MU7rvmWuhjud"
   },
   "outputs": [],
   "source": [
    "# import dataset (comes with colab!)\n",
    "data = np.loadtxt(open('mnist_train_small.csv','rb'),delimiter=',')\n",
    "\n",
    "# extract labels (number IDs) and remove from data\n",
    "labels = data[:,0]\n",
    "data   = data[:,1:]\n",
    "\n",
    "# normalize the data to a range of [0 1]\n",
    "dataNorm = data / np.max(data)"
   ]
  },
  {
   "cell_type": "markdown",
   "metadata": {
    "id": "OhLQ2YSvpiGj"
   },
   "source": [
    "# Create train/test groups using DataLoader"
   ]
  },
  {
   "cell_type": "code",
   "execution_count": 3,
   "metadata": {
    "id": "Y_tZ1ymVp0Sf"
   },
   "outputs": [],
   "source": [
    "# Step 1: convert to tensor\n",
    "dataT   = torch.tensor( dataNorm ).float()\n",
    "labelsT = torch.tensor( labels ).long()\n",
    "\n",
    "# Step 2: use scikitlearn to split the data\n",
    "train_data,test_data, train_labels,test_labels = train_test_split(dataT, labelsT, test_size=.1)\n",
    "\n",
    "\n",
    "# Step 3: convert into PyTorch Datasets\n",
    "train_data = TensorDataset(train_data,train_labels)\n",
    "test_data  = TensorDataset(test_data,test_labels)\n",
    "\n",
    "# Step 4: translate into dataloader objects\n",
    "batchsize    = 32\n",
    "train_loader = DataLoader(train_data,batch_size=batchsize,shuffle=True,drop_last=True)\n",
    "test_loader  = DataLoader(test_data,batch_size=test_data.tensors[0].shape[0])"
   ]
  },
  {
   "cell_type": "markdown",
   "metadata": {
    "id": "OK8Opkhgp0bO"
   },
   "source": [
    "# Create the DL model"
   ]
  },
  {
   "cell_type": "code",
   "execution_count": 4,
   "metadata": {
    "id": "JK3OO3tAtZkA"
   },
   "outputs": [],
   "source": [
    "# create a class for the model\n",
    "def createTheMNISTNet():\n",
    "\n",
    "  class mnistNet(nn.Module):\n",
    "    def __init__(self):\n",
    "      super().__init__()\n",
    "\n",
    "      ### input layer\n",
    "      self.input = nn.Linear(784,64)\n",
    "      \n",
    "      ### hidden layer\n",
    "      self.fc1 = nn.Linear(64,32)\n",
    "      self.fc2 = nn.Linear(32,32)\n",
    "\n",
    "      ### output layer\n",
    "      self.output = nn.Linear(32,10)\n",
    "\n",
    "    # forward pass\n",
    "    def forward(self,x):\n",
    "      x = F.relu( self.input(x) )\n",
    "      x = F.relu( self.fc1(x) )\n",
    "      x = F.relu( self.fc2(x) )\n",
    "      return self.output(x)\n",
    "  \n",
    "  # create the model instance\n",
    "  net = mnistNet()\n",
    "  \n",
    "  # loss function\n",
    "  lossfun = nn.CrossEntropyLoss()\n",
    "\n",
    "  # optimizer\n",
    "  optimizer = torch.optim.SGD(net.parameters(),lr=.01)\n",
    "\n",
    "  return net,lossfun,optimizer"
   ]
  },
  {
   "cell_type": "code",
   "execution_count": 6,
   "metadata": {
    "id": "y6icEJcXp0el"
   },
   "outputs": [
    {
     "name": "stdout",
     "output_type": "stream",
     "text": [
      "Summary of model:\n",
      "mnistNet(\n",
      "  (input): Linear(in_features=784, out_features=64, bias=True)\n",
      "  (fc1): Linear(in_features=64, out_features=32, bias=True)\n",
      "  (fc2): Linear(in_features=32, out_features=32, bias=True)\n",
      "  (output): Linear(in_features=32, out_features=10, bias=True)\n",
      ")\n",
      " \n",
      "Summary of input layer:\n",
      "{'training': True, '_parameters': OrderedDict([('weight', Parameter containing:\n",
      "tensor([[ 0.0003, -0.0035,  0.0247,  ...,  0.0119, -0.0084,  0.0338],\n",
      "        [ 0.0231,  0.0343,  0.0304,  ...,  0.0042, -0.0125, -0.0099],\n",
      "        [-0.0044, -0.0229, -0.0020,  ..., -0.0099,  0.0184, -0.0166],\n",
      "        ...,\n",
      "        [-0.0276, -0.0195,  0.0217,  ..., -0.0345,  0.0115, -0.0334],\n",
      "        [-0.0182,  0.0041, -0.0220,  ..., -0.0095, -0.0329, -0.0314],\n",
      "        [-0.0230,  0.0207, -0.0118,  ..., -0.0292,  0.0003, -0.0159]],\n",
      "       requires_grad=True)), ('bias', Parameter containing:\n",
      "tensor([ 0.0030, -0.0098, -0.0266, -0.0297,  0.0285, -0.0284,  0.0199,  0.0177,\n",
      "         0.0264, -0.0065,  0.0314, -0.0230, -0.0178,  0.0298,  0.0011, -0.0143,\n",
      "        -0.0192,  0.0204, -0.0148,  0.0093, -0.0275, -0.0339, -0.0062,  0.0330,\n",
      "        -0.0091, -0.0190,  0.0181,  0.0248, -0.0053, -0.0124,  0.0107,  0.0064,\n",
      "        -0.0340, -0.0280,  0.0054, -0.0161, -0.0051, -0.0149, -0.0032,  0.0107,\n",
      "         0.0195,  0.0145,  0.0201,  0.0348, -0.0216, -0.0051, -0.0163,  0.0199,\n",
      "         0.0330,  0.0093, -0.0106,  0.0343,  0.0203,  0.0192,  0.0070, -0.0090,\n",
      "         0.0005,  0.0304, -0.0300,  0.0085,  0.0037, -0.0284, -0.0219, -0.0205],\n",
      "       requires_grad=True))]), '_buffers': OrderedDict(), '_non_persistent_buffers_set': set(), '_backward_hooks': OrderedDict(), '_is_full_backward_hook': None, '_forward_hooks': OrderedDict(), '_forward_pre_hooks': OrderedDict(), '_state_dict_hooks': OrderedDict(), '_load_state_dict_pre_hooks': OrderedDict(), '_load_state_dict_post_hooks': OrderedDict(), '_modules': OrderedDict(), 'in_features': 784, 'out_features': 64}\n",
      " \n"
     ]
    }
   ],
   "source": [
    "### exploring the \"innards\" of the model\n",
    "\n",
    "# create a temp model to explore\n",
    "net = createTheMNISTNet()[0]\n",
    "\n",
    "# summary of the entire model\n",
    "print('Summary of model:')\n",
    "print(net)\n",
    "print(' ')\n",
    "\n",
    "# explore one of the layers\n",
    "print('Summary of input layer:')\n",
    "print( vars(net.input) )\n",
    "print(' ')\n",
    "\n",
    "# # check out the matrix of weights\n",
    "# print('Input layer weights:')\n",
    "# print( net.input.weight.shape )\n",
    "# print( net.input.weight )\n",
    "# print(' ')\n",
    "\n",
    "# # finally, extract the weights and make a histogram\n",
    "# w = net.input.weight.detach().flatten()\n",
    "# plt.hist(w,40)\n",
    "# plt.xlabel('Weight value')\n",
    "# plt.ylabel('Count')\n",
    "# plt.title('Distribution of initialized input-layer weights')\n",
    "# plt.show()"
   ]
  },
  {
   "cell_type": "code",
   "execution_count": null,
   "metadata": {
    "id": "HRwhwMc8e55T"
   },
   "outputs": [],
   "source": [
    "# a function that returns a histogram of all weights (across all layers)\n",
    "\n",
    "def weightsHistogram(net):\n",
    "\n",
    "  # initialize weight vector\n",
    "  W = np.array([])\n",
    "  \n",
    "  # concatenate each set of weights\n",
    "  for layer in net.parameters():\n",
    "    W = np.concatenate((W,layer.detach().flatten().numpy() ))\n",
    "\n",
    "  # compute their histogram (note: range is hard-coded)\n",
    "  histy,histx = np.histogram(W,bins=np.linspace(-.8,.8,101),density=True)\n",
    "  histx = (histx[1:]+histx[:-1])/2\n",
    "  return histx,histy\n",
    "\n",
    "\n",
    "\n",
    "\n",
    "# test it!\n",
    "histx,histy = weightsHistogram(net)\n",
    "plt.plot(histx,histy);"
   ]
  },
  {
   "cell_type": "markdown",
   "metadata": {
    "id": "dvfGQIRGp0ht"
   },
   "source": [
    "# Create a function that trains the model"
   ]
  },
  {
   "cell_type": "code",
   "execution_count": null,
   "metadata": {
    "id": "IblJo1NCp0kl"
   },
   "outputs": [],
   "source": [
    "# a function that trains the model\n",
    "\n",
    "def funtion2trainTheModel():\n",
    "\n",
    "  # number of epochs\n",
    "  numepochs = 100\n",
    "  \n",
    "  # create a new model\n",
    "  net,lossfun,optimizer = createTheMNISTNet()\n",
    "\n",
    "  # initialize losses and accuracies\n",
    "  losses    = torch.zeros(numepochs)\n",
    "  trainAcc  = []\n",
    "  testAcc   = []\n",
    "\n",
    "  # initialize histogram variables\n",
    "  histx = np.zeros((numepochs,100))\n",
    "  histy = np.zeros((numepochs,100))\n",
    "\n",
    "\n",
    "  # loop over epochs\n",
    "  for epochi in range(numepochs):\n",
    "\n",
    "    # get the weights distribution at the start of this epoch\n",
    "    histx,histy[epochi,:] = weightsHistogram(net)\n",
    "  \n",
    "    # loop over training data batches\n",
    "    batchAcc  = []\n",
    "    batchLoss = []\n",
    "    for X,y in train_loader:\n",
    "\n",
    "      # forward pass and loss\n",
    "      yHat = net(X)\n",
    "      loss = lossfun(yHat,y)\n",
    "\n",
    "      # backprop\n",
    "      optimizer.zero_grad()\n",
    "      loss.backward()\n",
    "      optimizer.step()\n",
    "\n",
    "      # loss from this batch\n",
    "      batchLoss.append(loss.item())\n",
    "\n",
    "      # compute accuracy\n",
    "      matches        = torch.argmax(yHat,axis=1) == y # booleans (false/true)\n",
    "      matchesNumeric = matches.float()                # convert to numbers (0/1)\n",
    "      accuracyPct    = 100*torch.mean(matchesNumeric) # average and x100\n",
    "      batchAcc.append( accuracyPct )                  # add to list of accuracies\n",
    "    # end of batch loop...\n",
    "\n",
    "    # now that we've trained through the batches, get their average training accuracy\n",
    "    trainAcc.append( np.mean(batchAcc) )\n",
    "\n",
    "    # and get average losses across the batches\n",
    "    losses[epochi] = np.mean(batchLoss)\n",
    "\n",
    "    # test accuracy\n",
    "    X,y = next(iter(test_loader)) # extract X,y from test dataloader\n",
    "    with torch.no_grad(): # deactivates autograd\n",
    "      yHat = net(X)\n",
    "      \n",
    "    # compare the following really long line of code to the training accuracy lines\n",
    "    testAcc.append( 100*torch.mean((torch.argmax(yHat,axis=1)==y).float()) )\n",
    "\n",
    "  # end epochs\n",
    "\n",
    "  # function output\n",
    "  return trainAcc,testAcc,losses,net,histx,histy\n"
   ]
  },
  {
   "cell_type": "markdown",
   "metadata": {
    "id": "XpGm9xdQ27Ob"
   },
   "source": [
    "# Run the model and show the results!"
   ]
  },
  {
   "cell_type": "code",
   "execution_count": null,
   "metadata": {
    "id": "l9pCC1R2p0nu"
   },
   "outputs": [],
   "source": [
    "trainAcc,testAcc,losses,net,histx,histy = funtion2trainTheModel()\n"
   ]
  },
  {
   "cell_type": "code",
   "execution_count": null,
   "metadata": {
    "id": "gHzKOZjnp0qn"
   },
   "outputs": [],
   "source": [
    "fig,ax = plt.subplots(1,2,figsize=(16,5))\n",
    "\n",
    "ax[0].plot(losses)\n",
    "ax[0].set_xlabel('Epochs')\n",
    "ax[0].set_ylabel('Loss')\n",
    "ax[0].set_ylim([0,3])\n",
    "ax[0].set_title('Model loss')\n",
    "\n",
    "ax[1].plot(trainAcc,label='Train')\n",
    "ax[1].plot(testAcc,label='Test')\n",
    "ax[1].set_xlabel('Epochs')\n",
    "ax[1].set_ylabel('Accuracy (%)')\n",
    "ax[1].set_ylim([10,100])\n",
    "ax[1].set_title(f'Final model test accuracy: {testAcc[-1]:.2f}%')\n",
    "ax[1].legend()\n",
    "\n",
    "plt.show()"
   ]
  },
  {
   "cell_type": "code",
   "execution_count": null,
   "metadata": {
    "id": "J3QPbBYUialt"
   },
   "outputs": [],
   "source": [
    "# show the histogram of the weights\n",
    "\n",
    "fig,ax = plt.subplots(1,2,figsize=(15,5))\n",
    "\n",
    "for i in range(histy.shape[0]):\n",
    "  ax[0].plot(histx,histy[i,:],color=[1-i/100,.3,i/100])\n",
    "\n",
    "ax[0].set_title('Histograms of weights')\n",
    "ax[0].set_xlabel('Weight value')\n",
    "ax[0].set_ylabel('Density')\n",
    "\n",
    "\n",
    "ax[1].imshow(histy,vmin=0,vmax=3,\n",
    "             extent=[histx[0],histx[-1],0,99],aspect='auto',origin='lower',cmap='hot')\n",
    "ax[1].set_xlabel('Weight value')\n",
    "ax[1].set_ylabel('Training epoch')\n",
    "ax[1].set_title('Image of weight histograms')\n",
    "\n",
    "plt.show()"
   ]
  },
  {
   "cell_type": "code",
   "execution_count": null,
   "metadata": {
    "id": "9SnUUHPm7xQE"
   },
   "outputs": [],
   "source": []
  },
  {
   "cell_type": "markdown",
   "metadata": {
    "id": "HE_3QdOy7xSM"
   },
   "source": [
    "# Additional explorations"
   ]
  },
  {
   "cell_type": "code",
   "execution_count": null,
   "metadata": {
    "id": "_9raxoNJ76Zq"
   },
   "outputs": [],
   "source": [
    "# 1) Separate the distributions for input, hidden, and output layers. \n",
    "#    Are the learning-related changes similar across all layers?\n",
    "# \n",
    "# 2) Re-run the code without data normalization. \n",
    "#    Does the scale of the data affect the scale of the weights?\n",
    "# \n",
    "# 3) Test how dropout regularization affects the weight distributions.\n",
    "# "
   ]
  },
  {
   "cell_type": "code",
   "execution_count": null,
   "metadata": {
    "id": "IxAXF1WX76jS"
   },
   "outputs": [],
   "source": []
  }
 ],
 "metadata": {
  "colab": {
   "authorship_tag": "ABX9TyPWkI0BD3sIN7CJl1B4+8mG",
   "collapsed_sections": [],
   "name": "DUDL_FFN_weightHistograms.ipynb",
   "provenance": [
    {
     "file_id": "1FcEBC0NAESIlHQkv6_85R-XDUKGE8XbM",
     "timestamp": 1617867907583
    },
    {
     "file_id": "1qKgZ8kVcqNgwtBzHbWq5yJH_HqI6DxWW",
     "timestamp": 1617803880910
    },
    {
     "file_id": "15cpyHkJ435B4MqbyGjAH1poN4nCy_DE4",
     "timestamp": 1617737766196
    },
    {
     "file_id": "1OLuWuaFu0hcFgkQ2hh5BqbRuqUZD7XcQ",
     "timestamp": 1617734878578
    },
    {
     "file_id": "1XvzVGJPTJifVh8OpZVB7ykLxyUqYwQ1j",
     "timestamp": 1617196833019
    },
    {
     "file_id": "1bv1_y32e3KEExFKKlPfC3rpw1JxmBr8H",
     "timestamp": 1617124341706
    },
    {
     "file_id": "1GMq8u7KyHB2AE7Teyls9gK1T01OduQSn",
     "timestamp": 1616697516760
    },
    {
     "file_id": "1Ui3kyHim-e0XLgDs2mkBxVlYg7TKYtcg",
     "timestamp": 1616615469755
    },
    {
     "file_id": "1YpHocGI4rApOxIBb1ZghCU5L-hFnv4CK",
     "timestamp": 1616608248670
    }
   ]
  },
  "kernelspec": {
   "display_name": "Python 3 (ipykernel)",
   "language": "python",
   "name": "python3"
  },
  "language_info": {
   "codemirror_mode": {
    "name": "ipython",
    "version": 3
   },
   "file_extension": ".py",
   "mimetype": "text/x-python",
   "name": "python",
   "nbconvert_exporter": "python",
   "pygments_lexer": "ipython3",
   "version": "3.8.13"
  }
 },
 "nbformat": 4,
 "nbformat_minor": 1
}
