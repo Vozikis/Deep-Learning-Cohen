{
 "cells": [
  {
   "cell_type": "markdown",
   "metadata": {
    "id": "bhWV8oes-wKR"
   },
   "source": [
    "# COURSE: A deep understanding of deep learning\n",
    "## SECTION: Regularization\n",
    "### LECTURE: L1 regularization in practice\n",
    "#### TEACHER: Mike X Cohen, sincxpress.com\n",
    "##### COURSE URL: udemy.com/course/deeplearning_x/?couponCode=202212"
   ]
  },
  {
   "cell_type": "code",
   "execution_count": 1,
   "metadata": {
    "id": "YeuAheYyhdZw"
   },
   "outputs": [],
   "source": [
    "# import libraries\n",
    "import torch\n",
    "import torch.nn as nn\n",
    "import numpy as np\n",
    "import matplotlib.pyplot as plt\n",
    "from sklearn.model_selection import train_test_split\n",
    "\n",
    "# \n",
    "from torch.utils.data import DataLoader"
   ]
  },
  {
   "cell_type": "code",
   "execution_count": 2,
   "metadata": {
    "id": "MU7rvmWuhjud"
   },
   "outputs": [],
   "source": [
    "# import dataset (comes with seaborn)\n",
    "import seaborn as sns\n",
    "iris = sns.load_dataset('iris')"
   ]
  },
  {
   "cell_type": "code",
   "execution_count": 3,
   "metadata": {
    "id": "vJPkH6Bfh01_"
   },
   "outputs": [],
   "source": [
    "# organize the data\n",
    "\n",
    "# convert from pandas dataframe to tensor\n",
    "data = torch.tensor( iris[iris.columns[0:4]].values ).float()\n",
    "\n",
    "# transform species to number\n",
    "labels = torch.zeros(len(data), dtype=torch.long)\n",
    "# labels[iris.species=='setosa']   = 0 # don't need!\n",
    "labels[iris.species=='versicolor'] = 1\n",
    "labels[iris.species=='virginica']  = 2"
   ]
  },
  {
   "cell_type": "markdown",
   "metadata": {
    "id": "S-GvjKA8AesK"
   },
   "source": [
    "# Break the data into batches"
   ]
  },
  {
   "cell_type": "code",
   "execution_count": 4,
   "metadata": {
    "id": "OVrlOHYIAg0r"
   },
   "outputs": [],
   "source": [
    "# use scikitlearn to split the data\n",
    "train_data,test_data, train_labels,test_labels = train_test_split(data, labels, test_size=.2)\n",
    "\n",
    "# then convert them into PyTorch Datasets (note: already converted to tensors)\n",
    "train_dataDataset = torch.utils.data.TensorDataset(train_data,train_labels)\n",
    "test_dataDataset  = torch.utils.data.TensorDataset(test_data,test_labels)\n",
    "\n",
    "# create dataloader objects\n",
    "train_loader = DataLoader(train_dataDataset,batch_size=64, shuffle=True, drop_last=True)\n",
    "test_loader  = DataLoader(test_dataDataset,batch_size=test_dataDataset.tensors[0].shape[0])"
   ]
  },
  {
   "cell_type": "markdown",
   "metadata": {
    "id": "Z23MkPyYRMCc"
   },
   "source": [
    "# Specify the model architecture and training plan"
   ]
  },
  {
   "cell_type": "code",
   "execution_count": 5,
   "metadata": {
    "id": "v0JMIGb1iV_9"
   },
   "outputs": [],
   "source": [
    "# a function that creates the ANN model\n",
    "\n",
    "def createANewModel():\n",
    "\n",
    "  # model architecture\n",
    "  ANNiris = nn.Sequential(\n",
    "      nn.Linear(4,64),   # input layer\n",
    "      nn.ReLU(),         # activation unit\n",
    "      nn.Linear(64,64),  # hidden layer\n",
    "      nn.ReLU(),         # activation unit\n",
    "      nn.Linear(64,3),   # output units\n",
    "        )\n",
    "\n",
    "  # loss function\n",
    "  lossfun = nn.CrossEntropyLoss()\n",
    "\n",
    "  # optimizer\n",
    "  optimizer = torch.optim.SGD(ANNiris.parameters(),lr=.005)\n",
    "\n",
    "  return ANNiris,lossfun,optimizer"
   ]
  },
  {
   "cell_type": "code",
   "execution_count": 6,
   "metadata": {
    "id": "4gaPXT_kO-GM"
   },
   "outputs": [
    {
     "name": "stdout",
     "output_type": "stream",
     "text": [
      "Sequential(\n",
      "  (0): Linear(in_features=4, out_features=64, bias=True)\n",
      "  (1): ReLU()\n",
      "  (2): Linear(in_features=64, out_features=64, bias=True)\n",
      "  (3): ReLU()\n",
      "  (4): Linear(in_features=64, out_features=3, bias=True)\n",
      ")\n",
      "0.weight torch.Size([64, 4]) 256\n",
      "0.bias torch.Size([64]) 64\n",
      "2.weight torch.Size([64, 64]) 4096\n",
      "2.bias torch.Size([64]) 64\n",
      "4.weight torch.Size([3, 64]) 192\n",
      "4.bias torch.Size([3]) 3\n"
     ]
    }
   ],
   "source": [
    "# explore the model in more detail\n",
    "tmpmodel = createANewModel()[0]\n",
    "\n",
    "# print the model architecture\n",
    "print(tmpmodel)\n",
    "\n",
    "# print the model's parameters\n",
    "for i in tmpmodel.named_parameters():\n",
    "  print(i[0],i[1].shape,i[1].numel())"
   ]
  },
  {
   "cell_type": "markdown",
   "metadata": {
    "id": "8DrBMhYbRTnY"
   },
   "source": [
    "# Function that trains the model"
   ]
  },
  {
   "cell_type": "code",
   "execution_count": 8,
   "metadata": {
    "id": "cVD1nFTli7TO"
   },
   "outputs": [],
   "source": [
    "# train the model\n",
    "\n",
    "# global parameter\n",
    "numepochs = 1000\n",
    "\n",
    "def trainTheModel(L1lambda):\n",
    "\n",
    "  # initialize accuracies as empties\n",
    "  trainAcc = []\n",
    "  testAcc  = []\n",
    "  losses   = []\n",
    "\n",
    "  # count the total number of weights in the model\n",
    "  nweights = 0\n",
    "  for pname,weight in ANNiris.named_parameters():\n",
    "    if 'bias' not in pname:\n",
    "      nweights = nweights + weight.numel()\n",
    "\n",
    "\n",
    "  # loop over epochs\n",
    "  for epochi in range(numepochs):\n",
    "\n",
    "    # loop over training data batches\n",
    "    batchAcc  = []\n",
    "    batchLoss = []\n",
    "    for X,y in train_loader:\n",
    "\n",
    "      # forward pass and loss\n",
    "      yHat = ANNiris(X)\n",
    "      loss = lossfun(yHat,y)\n",
    "\n",
    "\n",
    "\n",
    "      ### add L1 term\n",
    "      L1_term = torch.tensor(0.,requires_grad=True)\n",
    "\n",
    "      # sum up all abs(weights)\n",
    "      for pname,weight in ANNiris.named_parameters():\n",
    "        if 'bias' not in pname:\n",
    "           L1_term = L1_term + torch.sum(torch.abs(weight))\n",
    "      \n",
    "      # add to loss term\n",
    "      loss = loss + L1lambda*L1_term/nweights\n",
    "      \n",
    "\n",
    "\n",
    "      # backprop\n",
    "      optimizer.zero_grad()\n",
    "      loss.backward()\n",
    "      optimizer.step()\n",
    "\n",
    "      # compute training accuracy just for this batch\n",
    "      batchAcc.append( 100*torch.mean((torch.argmax(yHat,axis=1) == y).float()).item() )\n",
    "      batchLoss.append( loss.item() )\n",
    "    # end of batch loop...\n",
    "\n",
    "    # now that we've trained through the batches, get their average training accuracy\n",
    "    trainAcc.append( np.mean(batchAcc) )\n",
    "    losses.append( np.mean(batchLoss) )\n",
    "\n",
    "    # test accuracy\n",
    "    X,y = next(iter(test_loader)) # extract X,y from test dataloader\n",
    "    predlabels = torch.argmax( ANNiris(X),axis=1 )\n",
    "    testAcc.append( 100*torch.mean((predlabels == y).float()).item() )\n",
    "  \n",
    "  # function output\n",
    "  return trainAcc,testAcc,losses\n"
   ]
  },
  {
   "cell_type": "markdown",
   "metadata": {
    "id": "Q2q3a4-wRX3X"
   },
   "source": [
    "# Bring it to life!"
   ]
  },
  {
   "cell_type": "code",
   "execution_count": 9,
   "metadata": {
    "id": "vXku7xIdcu7Y"
   },
   "outputs": [],
   "source": [
    "# create a model\n",
    "ANNiris,lossfun,optimizer = createANewModel()\n",
    "\n",
    "# train the model\n",
    "L1lambda = .001\n",
    "trainAcc,testAcc,losses = trainTheModel(L1lambda)"
   ]
  },
  {
   "cell_type": "code",
   "execution_count": 10,
   "metadata": {
    "id": "JYouZAY4i3jM"
   },
   "outputs": [
    {
     "data": {
      "image/png": "[encoded data removed]",
      "text/plain": [
       "<Figure size 1500x500 with 2 Axes>"
      ]
     },
     "metadata": {},
     "output_type": "display_data"
    }
   ],
   "source": [
    "# plot the results\n",
    "fig,ax = plt.subplots(1,2,figsize=(15,5))\n",
    "\n",
    "\n",
    "ax[0].plot(losses,'k^-')\n",
    "ax[0].set_ylabel('Loss')\n",
    "ax[0].set_xlabel('Epochs')\n",
    "ax[0].set_title('Losses with L1 $\\lambda$=' + str(L1lambda))\n",
    "\n",
    "ax[1].plot(trainAcc,'ro-')\n",
    "ax[1].plot(testAcc,'bs-')\n",
    "ax[1].set_title('Accuracy with L1 $\\lambda$=' + str(L1lambda))\n",
    "ax[1].set_xlabel('Epochs')\n",
    "ax[1].set_ylabel('Accuracy (%)')\n",
    "ax[1].legend(['Train','Test'])\n",
    "\n",
    "plt.show()"
   ]
  },
  {
   "cell_type": "code",
   "execution_count": 11,
   "metadata": {
    "id": "5BQ99x9GJbJT"
   },
   "outputs": [],
   "source": [
    "# create a 1D smoothing filter\n",
    "def smooth(x,k):\n",
    "  return np.convolve(x,np.ones(k)/k,mode='same')"
   ]
  },
  {
   "cell_type": "markdown",
   "metadata": {
    "id": "Pf17iO7NRdEn"
   },
   "source": [
    "# Now for the parameteric experiment"
   ]
  },
  {
   "cell_type": "code",
   "execution_count": null,
   "metadata": {
    "id": "j1iP8hhNdwV7"
   },
   "outputs": [],
   "source": [
    "# range of L1 regularization amounts\n",
    "L1lambda = np.linspace(0,.005,10)\n",
    "\n",
    "# initialize output results matrices\n",
    "accuracyResultsTrain = np.zeros((numepochs,len(L1lambda)))\n",
    "accuracyResultsTest  = np.zeros((numepochs,len(L1lambda)))\n",
    "\n",
    "\n",
    "# loop over batch sizes\n",
    "for li in range(len(L1lambda)):\n",
    "\n",
    "  # create and train a model\n",
    "  ANNiris,lossfun,optimizer = createANewModel()\n",
    "  trainAcc,testAcc,losses = trainTheModel(L1lambda[li])\n",
    "\n",
    "  # store data\n",
    "  accuracyResultsTrain[:,li] = smooth(trainAcc,10)\n",
    "  accuracyResultsTest[:,li]  = smooth(testAcc,10)"
   ]
  },
  {
   "cell_type": "code",
   "execution_count": null,
   "metadata": {
    "id": "EgY8DU_WTM6T"
   },
   "outputs": [],
   "source": [
    "# plot some results\n",
    "fig,ax = plt.subplots(1,2,figsize=(17,7))\n",
    "\n",
    "ax[0].plot(accuracyResultsTrain)\n",
    "ax[0].set_title('Train accuracy')\n",
    "ax[1].plot(accuracyResultsTest)\n",
    "ax[1].set_title('Test accuracy')\n",
    "\n",
    "# make the legend easier to read\n",
    "leglabels = [np.round(i,4) for i in L1lambda]\n",
    "\n",
    "# common features\n",
    "for i in range(2):\n",
    "  ax[i].legend(leglabels)\n",
    "  ax[i].set_xlabel('Epoch')\n",
    "  ax[i].set_ylabel('Accuracy (%)')\n",
    "  ax[i].set_ylim([50,101])\n",
    "  ax[i].grid()\n",
    "\n",
    "plt.show()"
   ]
  },
  {
   "cell_type": "code",
   "execution_count": null,
   "metadata": {
    "id": "vWPlIN9Gel79"
   },
   "outputs": [],
   "source": [
    "# show average accuracy by L1 rate\n",
    "\n",
    "# average only some epochs\n",
    "epoch_range = [500,950]\n",
    "\n",
    "\n",
    "plt.plot(L1lambda,\n",
    "         np.mean(accuracyResultsTrain[epoch_range[0]:epoch_range[1],:],axis=0),\n",
    "         'bo-',label='TRAIN')\n",
    "\n",
    "plt.plot(L1lambda,\n",
    "         np.mean(accuracyResultsTest[epoch_range[0]:epoch_range[1],:],axis=0),\n",
    "         'rs-',label='TEST')\n",
    "\n",
    "plt.xlabel('L1 regularization amount')\n",
    "plt.ylabel('Accuracy')\n",
    "plt.legend()\n",
    "plt.show()"
   ]
  },
  {
   "cell_type": "code",
   "execution_count": null,
   "metadata": {
    "id": "NSKpl7coA_-U"
   },
   "outputs": [],
   "source": []
  },
  {
   "cell_type": "markdown",
   "metadata": {
    "id": "oTe7Ep0NYX6F"
   },
   "source": [
    "# Additional explorations"
   ]
  },
  {
   "cell_type": "code",
   "execution_count": null,
   "metadata": {
    "id": "qs2EazKSVHEe"
   },
   "outputs": [],
   "source": [
    "# 1) In the previous video we used a pytorch function to implement L2 regularization, and in this video we implemented \n",
    "#    L1 regularization manually. Modify the code here to create a manual L2 regularizer.\n",
    "# \n",
    "# 2) Based on your modification above, create a combined L1+L2 regularizer. Does it make sense to use the same lambda\n",
    "#    parameter, or do you think it should be adjusted?\n",
    "# "
   ]
  }
 ],
 "metadata": {
  "colab": {
   "authorship_tag": "ABX9TyP/jCS6UOSEOVtqEnGU0c0p",
   "collapsed_sections": [],
   "name": "DUDL_regular_L1regu.ipynb",
   "provenance": [
    {
     "file_id": "1OLuWuaFu0hcFgkQ2hh5BqbRuqUZD7XcQ",
     "timestamp": 1617255660148
    },
    {
     "file_id": "1XvzVGJPTJifVh8OpZVB7ykLxyUqYwQ1j",
     "timestamp": 1617196833019
    },
    {
     "file_id": "1bv1_y32e3KEExFKKlPfC3rpw1JxmBr8H",
     "timestamp": 1617124341706
    },
    {
     "file_id": "1GMq8u7KyHB2AE7Teyls9gK1T01OduQSn",
     "timestamp": 1616697516760
    },
    {
     "file_id": "1Ui3kyHim-e0XLgDs2mkBxVlYg7TKYtcg",
     "timestamp": 1616615469755
    },
    {
     "file_id": "1YpHocGI4rApOxIBb1ZghCU5L-hFnv4CK",
     "timestamp": 1616608248670
    }
   ]
  },
  "kernelspec": {
   "display_name": "Python 3 (ipykernel)",
   "language": "python",
   "name": "python3"
  },
  "language_info": {
   "codemirror_mode": {
    "name": "ipython",
    "version": 3
   },
   "file_extension": ".py",
   "mimetype": "text/x-python",
   "name": "python",
   "nbconvert_exporter": "python",
   "pygments_lexer": "ipython3",
   "version": "3.8.13"
  }
 },
 "nbformat": 4,
 "nbformat_minor": 1
}
