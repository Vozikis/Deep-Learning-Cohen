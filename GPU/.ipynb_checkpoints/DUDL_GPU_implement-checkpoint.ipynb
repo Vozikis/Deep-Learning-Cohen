{
 "cells": [
  {
   "cell_type": "markdown",
   "metadata": {
    "id": "bhWV8oes-wKR"
   },
   "source": [
    "# COURSE: A deep understanding of deep learning\n",
    "## SECTION: Running models on a GPU\n",
    "### LECTURE: Implementation\n",
    "#### TEACHER: Mike X Cohen, sincxpress.com\n",
    "##### COURSE URL: udemy.com/course/deeplearning_x/?couponCode=202212"
   ]
  },
  {
   "cell_type": "code",
   "execution_count": 3,
   "metadata": {
    "id": "YeuAheYyhdZw"
   },
   "outputs": [],
   "source": [
    "# import libraries\n",
    "import torch\n",
    "import torch.nn as nn\n",
    "import matplotlib.pyplot as plt\n",
    "import time"
   ]
  },
  {
   "cell_type": "markdown",
   "metadata": {
    "id": "g0O-zq4UiM0P"
   },
   "source": [
    "# Select the processor device"
   ]
  },
  {
   "cell_type": "code",
   "execution_count": 4,
   "metadata": {
    "id": "03MycVnQiRqO"
   },
   "outputs": [],
   "source": [
    "## Note: To run models on a GPU you must select from the menu:\n",
    "#   -> Runtime\n",
    "#     -> Change runtime type\n",
    "#       -> Hardware accelerator\n",
    "#         -> GPU"
   ]
  },
  {
   "cell_type": "code",
   "execution_count": 11,
   "metadata": {
    "id": "cThPRuj_iJA2"
   },
   "outputs": [],
   "source": [
    "# # use GPU\n",
    "# device = torch.device('cuda:0' if torch.cuda.is_available() else 'cpu')\n",
    "# print(device)\n",
    "if not torch.backends.mps.is_available():\n",
    "    if not torch.backends.mps.is_built():\n",
    "        print(\"MPS not available because the current PyTorch install was not \"\n",
    "              \"built with MPS enabled.\")\n",
    "    else:\n",
    "        print(\"MPS not available because the current MacOS version is not 12.3+ \"\n",
    "              \"and/or you do not have an MPS-enabled device on this machine.\")\n",
    "\n",
    "else:\n",
    "    device = torch.device(\"mps\")\n",
    "\n",
    "    # Create a Tensor directly on the mps device\n",
    "    x = torch.ones(5, device=mps_device)\n",
    "    # Or\n",
    "    x = torch.ones(5, device=\"mps\")\n",
    "    y = x * 2\n"
   ]
  },
  {
   "cell_type": "markdown",
   "metadata": {
    "id": "rcumdem5jtiD"
   },
   "source": [
    "# Build a simple model"
   ]
  },
  {
   "cell_type": "code",
   "execution_count": 12,
   "metadata": {
    "id": "AMi1lQWOj09S"
   },
   "outputs": [],
   "source": [
    "net = nn.Sequential(\n",
    "    nn.Linear(20,100),\n",
    "    nn.ReLU(),\n",
    "    nn.Linear(100,500),\n",
    "    nn.ReLU(),\n",
    "    nn.Linear(500,30),\n",
    "    nn.ReLU(),\n",
    "    nn.Linear(30,2)\n",
    "      )"
   ]
  },
  {
   "cell_type": "markdown",
   "metadata": {
    "id": "TTfiVpw5j6Mq"
   },
   "source": [
    "# Make some data"
   ]
  },
  {
   "cell_type": "code",
   "execution_count": 13,
   "metadata": {
    "id": "A_AGHhXDj1UN"
   },
   "outputs": [],
   "source": [
    "# just some random fluff\n",
    "data   = torch.randn((1000,20)) # samples X features\n",
    "labels = torch.randint(low=0,high=2,size=(1,1000))"
   ]
  },
  {
   "cell_type": "markdown",
   "metadata": {
    "id": "laT9cpQcmA1l"
   },
   "source": [
    "# Send the model and the data to the GPU"
   ]
  },
  {
   "cell_type": "code",
   "execution_count": 14,
   "metadata": {
    "id": "nQzP_FXLj1QW"
   },
   "outputs": [],
   "source": [
    "# model\n",
    "net.to(device)\n",
    "\n",
    "# data\n",
    "data   = data.to(device)\n",
    "labels = labels.to(device)"
   ]
  },
  {
   "cell_type": "code",
   "execution_count": 15,
   "metadata": {
    "id": "b-uDroB7jPBe"
   },
   "outputs": [
    {
     "name": "stderr",
     "output_type": "stream",
     "text": [
      "/Users/antonis/miniforge3/envs/dfl_test/lib/python3.8/site-packages/torch/_tensor_str.py:115: UserWarning: The operator 'aten::nonzero' is not currently supported on the MPS backend and will fall back to run on the CPU. This may have performance implications. (Triggered internally at /Users/runner/work/_temp/anaconda/conda-bld/pytorch_1670525682339/work/aten/src/ATen/mps/MPSFallback.mm:11.)\n",
      "  nonzero_finite_vals = torch.masked_select(\n"
     ]
    },
    {
     "data": {
      "text/plain": [
       "tensor([[-0.3330, -0.2276,  0.1388,  ...,  0.2944,  1.6884, -0.6379],\n",
       "        [ 0.8900, -0.3093, -0.7264,  ...,  1.7293,  0.7150,  0.1238],\n",
       "        [ 0.8500,  1.7625,  2.5134,  ..., -0.4450,  0.9524,  1.2327],\n",
       "        ...,\n",
       "        [-0.1071, -0.0640,  0.2162,  ..., -0.0315, -1.2896,  0.7371],\n",
       "        [ 0.0622, -2.4813, -1.4222,  ..., -0.5762, -1.0796, -1.6683],\n",
       "        [ 1.0330, -0.7121, -0.3672,  ...,  0.4817, -0.9079,  0.5595]],\n",
       "       device='mps:0')"
      ]
     },
     "execution_count": 15,
     "metadata": {},
     "output_type": "execute_result"
    }
   ],
   "source": [
    "data"
   ]
  },
  {
   "cell_type": "code",
   "execution_count": 16,
   "metadata": {
    "id": "kCg4D6Hlfkgb"
   },
   "outputs": [
    {
     "name": "stdout",
     "output_type": "stream",
     "text": [
      "mps:0\n",
      "mps:0\n",
      "cpu\n"
     ]
    }
   ],
   "source": [
    "# you can also create data directly on the GPU\n",
    "dataG = torch.randn((1000,20),device=device)\n",
    "dataC = torch.randn((1000,20),device='cpu')\n",
    "\n",
    "print(data.device)\n",
    "print(dataG.device)\n",
    "print(dataC.device)"
   ]
  },
  {
   "cell_type": "markdown",
   "metadata": {
    "id": "9yrwlRyQj1dF"
   },
   "source": [
    "# Getting results from the model"
   ]
  },
  {
   "cell_type": "code",
   "execution_count": 20,
   "metadata": {
    "id": "tryFiNSej1gF"
   },
   "outputs": [],
   "source": [
    "output = net(data)"
   ]
  },
  {
   "cell_type": "code",
   "execution_count": 21,
   "metadata": {
    "id": "_0-0zxQOj1it"
   },
   "outputs": [
    {
     "data": {
      "text/plain": [
       "device(type='mps', index=0)"
      ]
     },
     "execution_count": 21,
     "metadata": {},
     "output_type": "execute_result"
    }
   ],
   "source": [
    "output.device"
   ]
  },
  {
   "cell_type": "code",
   "execution_count": 24,
   "metadata": {
    "id": "DQVKoRmWmUm5"
   },
   "outputs": [
    {
     "data": {
      "image/png": "[encoded data removed]",
      "text/plain": [
       "<Figure size 640x480 with 1 Axes>"
      ]
     },
     "metadata": {},
     "output_type": "display_data"
    }
   ],
   "source": [
    "# try to plot the data\n",
    "#plt.plot(output.detach());\n",
    "\n",
    "plt.plot(output.detach().cpu());"
   ]
  },
  {
   "cell_type": "markdown",
   "metadata": {
    "id": "VcNrG3HRnwms"
   },
   "source": [
    "# Experiment: Computation time"
   ]
  },
  {
   "cell_type": "code",
   "execution_count": 26,
   "metadata": {
    "id": "4lJBOELHnyJf"
   },
   "outputs": [],
   "source": [
    "# start the clock\n",
    "starttime = time.process_time()\n",
    "\n",
    "# move, run, retrieve\n",
    "device = 'mps'\n",
    "net.to(device)\n",
    "data   = data.to(device)\n",
    "labels = labels.to(device)\n",
    "output = net(data).detach().cpu()\n",
    "\n",
    "# stop the clock\n",
    "GPUtime = 1000*(time.process_time() - starttime)"
   ]
  },
  {
   "cell_type": "code",
   "execution_count": 27,
   "metadata": {
    "id": "a3o-SgmMnyMG"
   },
   "outputs": [],
   "source": [
    "# start the clock\n",
    "starttime = time.process_time()\n",
    "\n",
    "# move, run, retrieve\n",
    "device = 'cpu'\n",
    "net.to(device)\n",
    "data   = data.to(device)\n",
    "labels = labels.to(device)\n",
    "output = net(data).detach().cpu()\n",
    "\n",
    "# stop the clock\n",
    "CPUtime = 1000*(time.process_time() - starttime)"
   ]
  },
  {
   "cell_type": "code",
   "execution_count": 28,
   "metadata": {
    "id": "hzYccKwjnyOw"
   },
   "outputs": [
    {
     "data": {
      "text/plain": [
       "[15.719999999999956, 20.43399999999984]"
      ]
     },
     "execution_count": 28,
     "metadata": {},
     "output_type": "execute_result"
    }
   ],
   "source": [
    "# time in ms\n",
    "[CPUtime,GPUtime]"
   ]
  },
  {
   "cell_type": "code",
   "execution_count": 29,
   "metadata": {
    "id": "Bo5dt4Nipprn"
   },
   "outputs": [],
   "source": [
    "# but maybe \"sending\" it to the CPU takes too much overhead?"
   ]
  },
  {
   "cell_type": "code",
   "execution_count": 30,
   "metadata": {
    "id": "J-NvS5tvnyRX"
   },
   "outputs": [
    {
     "data": {
      "text/plain": [
       "[6.579000000000335, 15.719999999999956, 20.43399999999984]"
      ]
     },
     "execution_count": 30,
     "metadata": {},
     "output_type": "execute_result"
    }
   ],
   "source": [
    "# recreate network and data\n",
    "net  = nn.Sequential(nn.Linear(20,100),nn.ReLU(),nn.Linear(100,500),nn.ReLU(),nn.Linear(500,30),nn.ReLU(),nn.Linear(30,2))\n",
    "data = torch.randn((1000,20))\n",
    "\n",
    "# rerun the experiment\n",
    "starttime = time.process_time()\n",
    "output    = net(data).detach()\n",
    "CPUtime2  = 1000*(time.process_time() - starttime)\n",
    "\n",
    "# report the results\n",
    "[CPUtime2,CPUtime,GPUtime]"
   ]
  },
  {
   "cell_type": "code",
   "execution_count": null,
   "metadata": {
    "id": "dJ1p2lXWkSdl"
   },
   "outputs": [],
   "source": []
  }
 ],
 "metadata": {
  "accelerator": "GPU",
  "colab": {
   "authorship_tag": "ABX9TyO6Sbwn18acQD5H5eD06W+E",
   "collapsed_sections": [],
   "name": "DUDL_GPU_implement.ipynb",
   "provenance": []
  },
  "kernelspec": {
   "display_name": "Python 3 (ipykernel)",
   "language": "python",
   "name": "python3"
  },
  "language_info": {
   "codemirror_mode": {
    "name": "ipython",
    "version": 3
   },
   "file_extension": ".py",
   "mimetype": "text/x-python",
   "name": "python",
   "nbconvert_exporter": "python",
   "pygments_lexer": "ipython3",
   "version": "3.8.13"
  }
 },
 "nbformat": 4,
 "nbformat_minor": 1
}
