{
 "cells": [
  {
   "cell_type": "markdown",
   "metadata": {
    "id": "bhWV8oes-wKR"
   },
   "source": [
    "# COURSE: A deep understanding of deep learning\n",
    "## SECTION: Convolution and transformations\n",
    "### LECTURE: The Conv2 class in PyTorch\n",
    "#### TEACHER: Mike X Cohen, sincxpress.com\n",
    "##### COURSE URL: udemy.com/course/dudl/?couponCode=202106"
   ]
  },
  {
   "cell_type": "code",
   "execution_count": 1,
   "metadata": {
    "id": "YeuAheYyhdZw"
   },
   "outputs": [],
   "source": [
    "# import libraries\n",
    "import numpy as np\n",
    "import torch\n",
    "import torch.nn as nn\n",
    "\n",
    "import matplotlib.pyplot as plt"
   ]
  },
  {
   "cell_type": "markdown",
   "metadata": {
    "id": "0HOkOefftqyg"
   },
   "source": [
    "# Create a convolution instance"
   ]
  },
  {
   "cell_type": "code",
   "execution_count": 3,
   "metadata": {
    "id": "VhIKo0_iaGz2"
   },
   "outputs": [
    {
     "name": "stdout",
     "output_type": "stream",
     "text": [
      "Conv2d(3, 15, kernel_size=(5, 5), stride=(1, 1))\n",
      " \n",
      "Size of weights: torch.Size([15, 3, 5, 5])\n",
      "Size of bias: torch.Size([15])\n"
     ]
    }
   ],
   "source": [
    "# create a conv2d class instance with parameters\n",
    "\n",
    "# parameters\n",
    "inChans  = 3 # RGB input channels\n",
    "outChans = 15 #15 feature maps from the convolution. 15 different kernels\n",
    "krnSize  = 5 # should be an odd number. Each kernel is 5x5\n",
    "stride   = 1\n",
    "padding  = 0\n",
    "\n",
    "# create the instance (cf nn.Linear)\n",
    "c = nn.Conv2d(inChans,outChans,krnSize,stride,padding)\n",
    "\n",
    "# let's have a look at it\n",
    "print(c)\n",
    "print(' ')\n",
    "\n",
    "# check out its weight tensor; what are the dimensions?\n",
    "print( 'Size of weights: ' + str(c.weight.shape) )\n",
    "print( 'Size of bias: ' + str(c.bias.shape) )"
   ]
  },
  {
   "cell_type": "code",
   "execution_count": 4,
   "metadata": {
    "id": "N6p50RaP4kce"
   },
   "outputs": [
    {
     "data": {
      "image/png": "[encoded data removed]",
      "text/plain": [
       "<Figure size 1000x500 with 15 Axes>"
      ]
     },
     "metadata": {},
     "output_type": "display_data"
    }
   ],
   "source": [
    "# What do these kernels look like?\n",
    "\n",
    "fig,axs = plt.subplots(3,5,figsize=(10,5))\n",
    "\n",
    "for i,ax in enumerate(axs.flatten()):\n",
    "  ax.imshow(torch.squeeze(c.weight[i,0,:,:]).detach(),cmap='Purples')\n",
    "  ax.set_title('L1(0)->L2(%s)'%i)\n",
    "  ax.axis('off')\n",
    "\n",
    "plt.tight_layout()\n",
    "plt.show()"
   ]
  },
  {
   "cell_type": "markdown",
   "metadata": {
    "id": "VAqVrcrGd98S"
   },
   "source": [
    "# Convolve with an image"
   ]
  },
  {
   "cell_type": "code",
   "execution_count": null,
   "metadata": {
    "id": "9SnUUHPm7xQE"
   },
   "outputs": [],
   "source": [
    "# size of the image (N, RGB, height, width)\n",
    "imsize = (1,3,64,64)\n",
    "\n",
    "img = torch.rand(imsize)\n",
    "\n",
    "# pytorch wants channels first, but matplotlib wants channels last.\n",
    "# therefore, tensors must be permuted to visualize\n",
    "img2view = img.permute(2,3,1,0).numpy()\n",
    "print(img.shape)\n",
    "print(img2view.shape)\n",
    "\n",
    "plt.imshow(np.squeeze(img2view));"
   ]
  },
  {
   "cell_type": "code",
   "execution_count": null,
   "metadata": {
    "id": "2WcTRmLu4F23"
   },
   "outputs": [],
   "source": [
    "# convolve the image with the filter bank (set of 'outChans' kernels)\n",
    "convRes = c(img)\n",
    "\n",
    "print(img.shape)\n",
    "print(convRes.shape)"
   ]
  },
  {
   "cell_type": "code",
   "execution_count": null,
   "metadata": {
    "id": "poDa9N6TwjPu"
   },
   "outputs": [],
   "source": [
    "# What do the convolved images look like? (Hint: think of the bathtub picture.)\n",
    "\n",
    "fig,axs = plt.subplots(3,5,figsize=(10,5))\n",
    "\n",
    "for i,ax in enumerate(axs.flatten()):\n",
    "\n",
    "  # extract this \"layer\" of the convolution result\n",
    "  I = torch.squeeze(convRes[0,i,:,:]).detach()\n",
    "\n",
    "  # and visualize it\n",
    "  ax.imshow(I,cmap='Purples')\n",
    "  ax.set_title('Conv. w/ filter %s'%i)\n",
    "  ax.axis('off')\n",
    "\n",
    "plt.tight_layout()\n",
    "plt.show()"
   ]
  },
  {
   "cell_type": "code",
   "execution_count": null,
   "metadata": {
    "id": "fCooGt9PiNb6"
   },
   "outputs": [],
   "source": []
  },
  {
   "cell_type": "markdown",
   "metadata": {
    "id": "TVXQlW-svDUE"
   },
   "source": [
    "# Additional explorations"
   ]
  },
  {
   "cell_type": "code",
   "execution_count": null,
   "metadata": {
    "id": "nViqoQuOvbZB"
   },
   "outputs": [],
   "source": [
    "# 1) Spend a few minutes changing the padding and stride parameters, and observe how those change the size of the result \n",
    "#    of convolution (variable convRes). In the upcoming CodeChallenge, we'll look into this more rigorously, but it's\n",
    "#    useful to have some initial familiarity.\n",
    "# "
   ]
  }
 ],
 "metadata": {
  "colab": {
   "authorship_tag": "ABX9TyMvVmtCanWS/fdwdvJzDkS6",
   "provenance": [
    {
     "file_id": "1GRajDS-VF5z8IslzZuMqbis3X6HDD-Uo",
     "timestamp": 1619468278654
    },
    {
     "file_id": "1m0n2-UmB2tJiIDadlFkE6L5A4iZSqeBf",
     "timestamp": 1619459134813
    },
    {
     "file_id": "19G9gTeBlYPQ-s3VS_3K2bVFtKTP344j6",
     "timestamp": 1619444797767
    },
    {
     "file_id": "1FcEBC0NAESIlHQkv6_85R-XDUKGE8XbM",
     "timestamp": 1619155961717
    },
    {
     "file_id": "1qKgZ8kVcqNgwtBzHbWq5yJH_HqI6DxWW",
     "timestamp": 1617803880910
    },
    {
     "file_id": "15cpyHkJ435B4MqbyGjAH1poN4nCy_DE4",
     "timestamp": 1617737766196
    },
    {
     "file_id": "1OLuWuaFu0hcFgkQ2hh5BqbRuqUZD7XcQ",
     "timestamp": 1617734878578
    },
    {
     "file_id": "1XvzVGJPTJifVh8OpZVB7ykLxyUqYwQ1j",
     "timestamp": 1617196833019
    },
    {
     "file_id": "1bv1_y32e3KEExFKKlPfC3rpw1JxmBr8H",
     "timestamp": 1617124341706
    },
    {
     "file_id": "1GMq8u7KyHB2AE7Teyls9gK1T01OduQSn",
     "timestamp": 1616697516760
    },
    {
     "file_id": "1Ui3kyHim-e0XLgDs2mkBxVlYg7TKYtcg",
     "timestamp": 1616615469755
    },
    {
     "file_id": "1YpHocGI4rApOxIBb1ZghCU5L-hFnv4CK",
     "timestamp": 1616608248670
    }
   ]
  },
  "kernelspec": {
   "display_name": "Python 3 (ipykernel)",
   "language": "python",
   "name": "python3"
  },
  "language_info": {
   "codemirror_mode": {
    "name": "ipython",
    "version": 3
   },
   "file_extension": ".py",
   "mimetype": "text/x-python",
   "name": "python",
   "nbconvert_exporter": "python",
   "pygments_lexer": "ipython3",
   "version": "3.8.13"
  }
 },
 "nbformat": 4,
 "nbformat_minor": 1
}
