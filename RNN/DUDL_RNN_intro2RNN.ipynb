{
 "cells": [
  {
   "cell_type": "markdown",
   "metadata": {
    "id": "bhWV8oes-wKR"
   },
   "source": [
    "# COURSE: A deep understanding of deep learning\n",
    "## SECTION: RNNs (and LSTM and GRU)\n",
    "### LECTURE: The RNN class\n",
    "#### TEACHER: Mike X Cohen, sincxpress.com\n",
    "##### COURSE URL: udemy.com/course/deeplearning_x/?couponCode=202212"
   ]
  },
  {
   "cell_type": "code",
   "execution_count": 2,
   "metadata": {
    "ExecuteTime": {
     "end_time": "2023-02-09T10:03:34.969100Z",
     "start_time": "2023-02-09T10:03:34.962924Z"
    },
    "id": "j7-LiwqUMGYL"
   },
   "outputs": [],
   "source": [
    "### import libraries\n",
    "import torch\n",
    "import torch.nn as nn\n",
    "import numpy as np"
   ]
  },
  {
   "cell_type": "markdown",
   "metadata": {
    "id": "xxH9iWl34bmR"
   },
   "source": [
    "# Explore the RNN type"
   ]
  },
  {
   "cell_type": "code",
   "execution_count": 4,
   "metadata": {
    "ExecuteTime": {
     "end_time": "2023-02-09T10:04:55.165455Z",
     "start_time": "2023-02-09T10:04:55.153759Z"
    },
    "id": "zTIEHcqz4e6b"
   },
   "outputs": [
    {
     "name": "stdout",
     "output_type": "stream",
     "text": [
      "RNN(9, 16)\n"
     ]
    }
   ],
   "source": [
    "# set layer parameters\n",
    "input_size  =  9 # number of features to extract (e.g., number of data channels)\n",
    "hidden_size = 16 # number of units in the hidden state\n",
    "num_layers  =  1 # number of vertical stacks of hidden layers (note: only the final layer gives an output)\n",
    "actfun      = 'tanh' #we dont need it. it's the default value\n",
    "bias        = True #we don't need it. it's the default value\n",
    "\n",
    "# create an RNN instance\n",
    "rnn = nn.RNN(input_size,hidden_size,num_layers,nonlinearity=actfun,bias=bias)\n",
    "print(rnn)"
   ]
  },
  {
   "cell_type": "code",
   "execution_count": 5,
   "metadata": {
    "ExecuteTime": {
     "end_time": "2023-02-09T10:06:09.178534Z",
     "start_time": "2023-02-09T10:06:09.108976Z"
    },
    "id": "loAF6NFjX6nQ"
   },
   "outputs": [],
   "source": [
    "# check out the source code for more detailed info about this class\n",
    "??nn.RNN"
   ]
  },
  {
   "cell_type": "code",
   "execution_count": 9,
   "metadata": {
    "ExecuteTime": {
     "end_time": "2023-02-09T10:08:05.660263Z",
     "start_time": "2023-02-09T10:08:05.648139Z"
    },
    "id": "nPMVY6Em5B7y"
   },
   "outputs": [
    {
     "name": "stdout",
     "output_type": "stream",
     "text": [
      " Input shape: [5, 2, 9]\n",
      "Hidden shape: [1, 2, 16]\n",
      "Output shape: [5, 2, 16]\n"
     ]
    }
   ],
   "source": [
    "# set data parameters\n",
    "seqlength = 5\n",
    "batchsize = 2\n",
    "\n",
    "# create some data\n",
    "X = torch.rand(seqlength,batchsize,input_size)\n",
    "\n",
    "# create a hidden layer (typically initialized as zeros)\n",
    "#this is the activation of the hidden layers. NOT the weights\n",
    "hidden = torch.zeros(num_layers,batchsize,hidden_size)\n",
    "\n",
    "\n",
    "# run some data through the model and show the output sizes\n",
    "y,h = rnn(X,hidden)\n",
    "print(f' Input shape: {list(X.shape)}')\n",
    "print(f'Hidden shape: {list(h.shape)}')\n",
    "print(f'Output shape: {list(y.shape)}')\n",
    "#the output here is the output of the hidden layer"
   ]
  },
  {
   "cell_type": "code",
   "execution_count": 12,
   "metadata": {
    "ExecuteTime": {
     "end_time": "2023-02-09T10:08:34.368195Z",
     "start_time": "2023-02-09T10:08:34.356127Z"
    },
    "id": "ce1ssfjs7qR5"
   },
   "outputs": [
    {
     "name": "stdout",
     "output_type": "stream",
     "text": [
      "tensor([[[-0.2879, -0.3844, -0.3136,  0.4873, -0.1252, -0.3310,  0.1635,\n",
      "           0.2439,  0.3214,  0.4273,  0.2666,  0.0670, -0.6833, -0.5538,\n",
      "          -0.0249, -0.3344],\n",
      "         [-0.4605, -0.0944, -0.1518,  0.6676, -0.0997,  0.0136, -0.1883,\n",
      "          -0.1999,  0.3773, -0.0754,  0.1187, -0.1245, -0.3768, -0.3955,\n",
      "          -0.0427, -0.1532]]], grad_fn=<StackBackward0>)\n",
      "\n",
      "\n",
      "\n",
      "tensor([[[-0.2879, -0.3844, -0.3136,  0.4873, -0.1252, -0.3310,  0.1635,\n",
      "           0.2439,  0.3214,  0.4273,  0.2666,  0.0670, -0.6833, -0.5538,\n",
      "          -0.0249, -0.3344],\n",
      "         [-0.4605, -0.0944, -0.1518,  0.6676, -0.0997,  0.0136, -0.1883,\n",
      "          -0.1999,  0.3773, -0.0754,  0.1187, -0.1245, -0.3768, -0.3955,\n",
      "          -0.0427, -0.1532]]], grad_fn=<StackBackward0>)\n",
      "\n",
      "\n",
      "\n",
      "tensor([[[0., 0., 0., 0., 0., 0., 0., 0., 0., 0., 0., 0., 0., 0., 0., 0.],\n",
      "         [0., 0., 0., 0., 0., 0., 0., 0., 0., 0., 0., 0., 0., 0., 0., 0.]]],\n",
      "       grad_fn=<SubBackward0>)\n"
     ]
    }
   ],
   "source": [
    "## Default hidden state is all zeros if nothing specified:\n",
    "y,h1 = rnn(X,hidden)\n",
    "print(h1), print('\\n\\n')\n",
    "\n",
    "y,h2 = rnn(X) #same result with or without hidden.\n",
    "print(h2), print('\\n\\n')\n",
    "\n",
    "# they're the same! (meaning default=zeros)\n",
    "print(h1-h2)"
   ]
  },
  {
   "cell_type": "code",
   "execution_count": 13,
   "metadata": {
    "ExecuteTime": {
     "end_time": "2023-02-09T10:08:34.867349Z",
     "start_time": "2023-02-09T10:08:34.860719Z"
    },
    "id": "-NO2PlZx_R2m"
   },
   "outputs": [
    {
     "name": "stdout",
     "output_type": "stream",
     "text": [
      "weight_ih_l0 has size [16, 9]\n",
      "weight_hh_l0 has size [16, 16]\n"
     ]
    }
   ],
   "source": [
    "# Check out the learned parameters and their sizes\n",
    "for p in rnn.named_parameters():\n",
    "  if 'weight' in p[0]:\n",
    "    print(f'{p[0]} has size {list(p[1].shape)}')"
   ]
  },
  {
   "cell_type": "code",
   "execution_count": null,
   "metadata": {
    "id": "0pFPzSU4MSGg"
   },
   "outputs": [],
   "source": []
  },
  {
   "cell_type": "markdown",
   "metadata": {
    "id": "VToReEHNWP0n"
   },
   "source": [
    "# Create a DL model class"
   ]
  },
  {
   "cell_type": "code",
   "execution_count": 16,
   "metadata": {
    "ExecuteTime": {
     "end_time": "2023-02-09T10:14:10.250666Z",
     "start_time": "2023-02-09T10:14:10.236192Z"
    },
    "id": "RVcrKOC1Wqk-"
   },
   "outputs": [],
   "source": [
    "class RNNnet(nn.Module):\n",
    "  def __init__(self,input_size,num_hidden,num_layers):\n",
    "    super().__init__()\n",
    "\n",
    "    # store parameters\n",
    "    self.input_size = input_size\n",
    "    self.num_hidden = num_hidden\n",
    "    self.num_layers = num_layers\n",
    "\n",
    "    # RNN Layer\n",
    "    self.rnn = nn.RNN(input_size,num_hidden,num_layers)\n",
    "    \n",
    "    # linear layer for output\n",
    "    #we create a seperate layer for the output of the model\n",
    "    self.out = nn.Linear(num_hidden,1)\n",
    "  \n",
    "  def forward(self,x):\n",
    "    \n",
    "    print(f'Input: {list(x.shape)}')\n",
    "    \n",
    "    # initialize hidden state for first input\n",
    "    hidden = torch.zeros(self.num_layers,batchsize,self.num_hidden)\n",
    "    print(f'Hidden: {list(hidden.shape)}')\n",
    "\n",
    "    # run through the RNN layer\n",
    "    y,hidden = self.rnn(x,hidden)\n",
    "    print(f'RNN-out: {list(y.shape)}')\n",
    "    print(f'RNN-hidden: {list(hidden.shape)}')\n",
    "    \n",
    "    # pass the RNN output through the linear output layer\n",
    "    o = self.out(y)\n",
    "    print(f'Output: {list(o.shape)}')\n",
    "\n",
    "    return o,hidden"
   ]
  },
  {
   "cell_type": "code",
   "execution_count": 17,
   "metadata": {
    "ExecuteTime": {
     "end_time": "2023-02-09T10:14:10.565320Z",
     "start_time": "2023-02-09T10:14:10.553879Z"
    },
    "id": "zQKkLPUeWqn_"
   },
   "outputs": [
    {
     "name": "stdout",
     "output_type": "stream",
     "text": [
      "RNNnet(\n",
      "  (rnn): RNN(9, 16)\n",
      "  (out): Linear(in_features=16, out_features=1, bias=True)\n",
      ")\n",
      " \n",
      "rnn.weight_ih_l0 has size [16, 9]\n",
      "rnn.weight_hh_l0 has size [16, 16]\n",
      "rnn.bias_ih_l0 has size [16]\n",
      "rnn.bias_hh_l0 has size [16]\n",
      "out.weight has size [1, 16]\n",
      "out.bias has size [1]\n"
     ]
    }
   ],
   "source": [
    "# create an instance of the model and inspect\n",
    "net = RNNnet(input_size,hidden_size,num_layers)\n",
    "print(net), print(' ')\n",
    "\n",
    "# and check out all learnable parameters\n",
    "for p in net.named_parameters():\n",
    "  print(f'{p[0]} has size {list(p[1].shape)}')"
   ]
  },
  {
   "cell_type": "code",
   "execution_count": 18,
   "metadata": {
    "ExecuteTime": {
     "end_time": "2023-02-09T10:14:15.081759Z",
     "start_time": "2023-02-09T10:14:15.057722Z"
    },
    "id": "0WL8wjwn0Jwr"
   },
   "outputs": [
    {
     "name": "stdout",
     "output_type": "stream",
     "text": [
      "Input: [5, 2, 9]\n",
      "Hidden: [1, 2, 16]\n",
      "RNN-out: [5, 2, 16]\n",
      "RNN-hidden: [1, 2, 16]\n",
      "Output: [5, 2, 1]\n"
     ]
    },
    {
     "data": {
      "text/plain": [
       "tensor(0.0593, grad_fn=<MseLossBackward0>)"
      ]
     },
     "execution_count": 18,
     "metadata": {},
     "output_type": "execute_result"
    }
   ],
   "source": [
    "# test the model with some data\n",
    "# create some data\n",
    "X = torch.rand(seqlength,batchsize,input_size)\n",
    "y = torch.rand(seqlength,batchsize,1)\n",
    "yHat,h = net(X)\n",
    "\n",
    "# try a loss function\n",
    "lossfun = nn.MSELoss()\n",
    "lossfun(yHat,y)"
   ]
  },
  {
   "cell_type": "code",
   "execution_count": null,
   "metadata": {
    "id": "XXtU8uw-_7P0"
   },
   "outputs": [],
   "source": []
  },
  {
   "cell_type": "markdown",
   "metadata": {
    "id": "bdQ9d5UC_7Ss"
   },
   "source": [
    "# Additional explorations"
   ]
  },
  {
   "cell_type": "code",
   "execution_count": null,
   "metadata": {
    "id": "DclTJD17-66o"
   },
   "outputs": [],
   "source": [
    "# 1) In the video, I asked about the \"l0\" from the parameter name \"weight_ih_l0\". To explore this further, \n",
    "#    recreate that RNN instance but set the number of layers to 3. Then go through the code again to print\n",
    "#    out all of the weights matrices. Refer back to the discussion of layers in the previous video. Do you \n",
    "#    understand the naming system of the weights matrices?\n"
   ]
  },
  {
   "cell_type": "code",
   "execution_count": null,
   "metadata": {
    "id": "sg-G5f2g-69O"
   },
   "outputs": [],
   "source": []
  }
 ],
 "metadata": {
  "colab": {
   "authorship_tag": "ABX9TyOXeRSm3/zjYfMqDheNTpI5",
   "collapsed_sections": [],
   "name": "DUDL_RNN_intro2RNN.ipynb",
   "provenance": [
    {
     "file_id": "1BI9p-vnVoi7Tm8yiQgVN3kpM2VuEzfeE",
     "timestamp": 1621245811372
    },
    {
     "file_id": "1o_dLKV6fY7xdZYx_pNMY12zpL_pmMurs",
     "timestamp": 1618865813618
    },
    {
     "file_id": "1Q9LtmanyNt675-gO_kXRBKalCdP6xtvV",
     "timestamp": 1617253457100
    },
    {
     "file_id": "1jeqKEJfI18GlAhSG8RO5aJ6Vrp4-nkTt",
     "timestamp": 1615909315432
    },
    {
     "file_id": "10_geQnah5AvMsm8VDAQwNPhypOXradar",
     "timestamp": 1615893340208
    },
    {
     "file_id": "1FtQ99beHYcDFDywLdaPgFm-KjBeI8PvD",
     "timestamp": 1615877547147
    }
   ]
  },
  "kernelspec": {
   "display_name": "Python 3 (ipykernel)",
   "language": "python",
   "name": "python3"
  },
  "language_info": {
   "codemirror_mode": {
    "name": "ipython",
    "version": 3
   },
   "file_extension": ".py",
   "mimetype": "text/x-python",
   "name": "python",
   "nbconvert_exporter": "python",
   "pygments_lexer": "ipython3",
   "version": "3.8.13"
  }
 },
 "nbformat": 4,
 "nbformat_minor": 1
}
