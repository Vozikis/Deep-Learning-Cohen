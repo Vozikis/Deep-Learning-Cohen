{
 "cells": [
  {
   "cell_type": "markdown",
   "metadata": {
    "id": "bhWV8oes-wKR"
   },
   "source": [
    "# COURSE: A deep understanding of deep learning\n",
    "## SECTION: Autoencoders\n",
    "### LECTURE: Autoencoder with tied weights\n",
    "#### TEACHER: Mike X Cohen, sincxpress.com\n",
    "##### COURSE URL: udemy.com/course/deeplearning_x/?couponCode=202212"
   ]
  },
  {
   "cell_type": "code",
   "execution_count": 1,
   "metadata": {
    "id": "YeuAheYyhdZw"
   },
   "outputs": [
    {
     "name": "stderr",
     "output_type": "stream",
     "text": [
      "/var/folders/f2/gq8xgm9x491cqwtct_tgpy0h0000gn/T/ipykernel_66420/1319117283.py:10: DeprecationWarning: `set_matplotlib_formats` is deprecated since IPython 7.23, directly use `matplotlib_inline.backend_inline.set_matplotlib_formats()`\n",
      "  display.set_matplotlib_formats('svg')\n"
     ]
    }
   ],
   "source": [
    "# import libraries\n",
    "import numpy as np\n",
    "\n",
    "import torch\n",
    "import torch.nn as nn\n",
    "import torch.nn.functional as F\n",
    "\n",
    "import matplotlib.pyplot as plt\n",
    "from IPython import display\n",
    "display.set_matplotlib_formats('svg')"
   ]
  },
  {
   "cell_type": "markdown",
   "metadata": {
    "id": "9L8jhg0TKWze"
   },
   "source": [
    "# An aside on Linear vs. Parameter classes"
   ]
  },
  {
   "cell_type": "code",
   "execution_count": 5,
   "metadata": {
    "id": "-F0RE3KCKY96"
   },
   "outputs": [
    {
     "name": "stdout",
     "output_type": "stream",
     "text": [
      "Parameter containing:\n",
      "tensor([[-0.1660, -0.9212, -0.0386,  ...,  0.2302, -1.1887,  0.5711],\n",
      "        [ 0.5656, -2.2660, -1.3047,  ...,  1.5662,  0.0030, -0.0291],\n",
      "        [ 0.4849, -1.2404, -1.0699,  ..., -0.0347,  1.5353, -1.0862],\n",
      "        ...,\n",
      "        [ 0.0730,  0.2474, -0.2308,  ..., -1.2005,  0.3133, -0.6883],\n",
      "        [-2.0261, -0.8063, -1.5348,  ...,  0.0830,  1.7967,  1.8663],\n",
      "        [ 0.8051, -0.3265,  0.2090,  ..., -0.3571,  0.3384, -0.6509]],\n",
      "       requires_grad=True)\n",
      "\n",
      "\n",
      "\n"
     ]
    }
   ],
   "source": [
    "# create an input and weights matrix\n",
    "#we force the encoder weights to be equal to the decoder weights.\n",
    "#in practise have the same weights for encoder and decoder\n",
    "x  = torch.rand(10,50) #10 data observation of 50 feature each one\n",
    "W1 = nn.Parameter(torch.randn(128,50))#simulate the input layer from 50 to 128\n",
    "#nn.Parameter(torch.randn(num of units in the current layer,number of units in the previous))\n",
    "#requires_grad=True means that we have trainable parameters\n",
    "\n",
    "# Let's see what W1 is\n",
    "print(W1)\n",
    "print('\\n\\n')\n",
    "\n",
    "# # Its size and the size of its transpose\n",
    "# print(W1.shape)\n",
    "# print(W1.t().shape)\n",
    "# print('\\n\\n')\n",
    "\n",
    "# # compute an output\n",
    "# y = x@W1\n",
    "# print(y.shape)"
   ]
  },
  {
   "cell_type": "code",
   "execution_count": 7,
   "metadata": {
    "id": "-_U2CAduLnD_"
   },
   "outputs": [
    {
     "name": "stdout",
     "output_type": "stream",
     "text": [
      "Linear(in_features=128, out_features=50, bias=True)\n",
      "\n",
      "\n",
      "\n"
     ]
    }
   ],
   "source": [
    "# Now try again with the Linear method\n",
    "W2 = nn.Linear(128,50)\n",
    "\n",
    "# Let's see what W2 is\n",
    "print(W2)\n",
    "print('\\n\\n')\n",
    "\n",
    "# # Its size and the size of its transpose\n",
    "# print(W2.shape)\n",
    "# print(W2.weight.t().shape)\n",
    "# print('\\n\\n')\n",
    "\n",
    "# # compute an output\n",
    "# y = x @ (W2.weight)\n",
    "# print(y.shape)"
   ]
  },
  {
   "cell_type": "code",
   "execution_count": 8,
   "metadata": {
    "id": "xVEp69VYMteg"
   },
   "outputs": [
    {
     "name": "stdout",
     "output_type": "stream",
     "text": [
      "torch.Size([128, 50])\n",
      "torch.Size([50, 128])\n"
     ]
    }
   ],
   "source": [
    "# confusion from the previous cells\n",
    "print(W1.shape)\n",
    "print(W2.weight.shape)\n",
    "\n",
    "# confusion solved ;)\n",
    "# (size of W -> [outputs,inputs], but nn.Linear expects [inputs,outputs])"
   ]
  },
  {
   "cell_type": "code",
   "execution_count": 9,
   "metadata": {
    "id": "nCPNVnSrLh9c"
   },
   "outputs": [
    {
     "data": {
      "text/plain": [
       "['T_destination',\n",
       " '__annotations__',\n",
       " '__call__',\n",
       " '__class__',\n",
       " '__constants__',\n",
       " '__delattr__',\n",
       " '__dict__',\n",
       " '__dir__',\n",
       " '__doc__',\n",
       " '__eq__',\n",
       " '__format__',\n",
       " '__ge__',\n",
       " '__getattr__',\n",
       " '__getattribute__',\n",
       " '__gt__',\n",
       " '__hash__',\n",
       " '__init__',\n",
       " '__init_subclass__',\n",
       " '__le__',\n",
       " '__lt__',\n",
       " '__module__',\n",
       " '__ne__',\n",
       " '__new__',\n",
       " '__reduce__',\n",
       " '__reduce_ex__',\n",
       " '__repr__',\n",
       " '__setattr__',\n",
       " '__setstate__',\n",
       " '__sizeof__',\n",
       " '__str__',\n",
       " '__subclasshook__',\n",
       " '__weakref__',\n",
       " '_apply',\n",
       " '_call_impl',\n",
       " '_get_backward_hooks',\n",
       " '_get_name',\n",
       " '_load_from_state_dict',\n",
       " '_maybe_warn_non_full_backward_hook',\n",
       " '_named_members',\n",
       " '_register_load_state_dict_pre_hook',\n",
       " '_register_state_dict_hook',\n",
       " '_replicate_for_data_parallel',\n",
       " '_save_to_state_dict',\n",
       " '_slow_forward',\n",
       " '_version',\n",
       " 'add_module',\n",
       " 'apply',\n",
       " 'bfloat16',\n",
       " 'buffers',\n",
       " 'children',\n",
       " 'cpu',\n",
       " 'cuda',\n",
       " 'double',\n",
       " 'dump_patches',\n",
       " 'eval',\n",
       " 'extra_repr',\n",
       " 'float',\n",
       " 'forward',\n",
       " 'get_buffer',\n",
       " 'get_extra_state',\n",
       " 'get_parameter',\n",
       " 'get_submodule',\n",
       " 'half',\n",
       " 'ipu',\n",
       " 'load_state_dict',\n",
       " 'modules',\n",
       " 'named_buffers',\n",
       " 'named_children',\n",
       " 'named_modules',\n",
       " 'named_parameters',\n",
       " 'parameters',\n",
       " 'register_backward_hook',\n",
       " 'register_buffer',\n",
       " 'register_forward_hook',\n",
       " 'register_forward_pre_hook',\n",
       " 'register_full_backward_hook',\n",
       " 'register_load_state_dict_post_hook',\n",
       " 'register_module',\n",
       " 'register_parameter',\n",
       " 'requires_grad_',\n",
       " 'reset_parameters',\n",
       " 'set_extra_state',\n",
       " 'share_memory',\n",
       " 'state_dict',\n",
       " 'to',\n",
       " 'to_empty',\n",
       " 'train',\n",
       " 'type',\n",
       " 'xpu',\n",
       " 'zero_grad']"
      ]
     },
     "execution_count": 9,
     "metadata": {},
     "output_type": "execute_result"
    }
   ],
   "source": [
    "# see all attributes of the class Linear\n",
    "dir(nn.Linear)\n",
    "\n",
    "# and the docstring for Linear.forward\n",
    "# ??nn.Linear.forward()\n",
    "# ??nn.Linear.__init__() # note the inputs vs. how weight is created"
   ]
  },
  {
   "cell_type": "markdown",
   "metadata": {
    "id": "0HOkOefftqyg"
   },
   "source": [
    "# Import and process the data"
   ]
  },
  {
   "cell_type": "code",
   "execution_count": 11,
   "metadata": {
    "id": "MU7rvmWuhjud"
   },
   "outputs": [],
   "source": [
    "# import dataset (comes with colab!)\n",
    "data = np.loadtxt(open('mnist_train_small.csv','rb'),delimiter=',')\n",
    "\n",
    "# don't need labels!\n",
    "data = data[:,1:]\n",
    "\n",
    "# normalize the data to a range of [0 1]\n",
    "dataNorm = data / np.max(data)\n",
    "\n",
    "# convert to tensor\n",
    "dataT = torch.tensor( dataNorm ).float()"
   ]
  },
  {
   "cell_type": "code",
   "execution_count": null,
   "metadata": {
    "id": "BYpjgqHANyFT"
   },
   "outputs": [],
   "source": []
  },
  {
   "cell_type": "markdown",
   "metadata": {
    "id": "OK8Opkhgp0bO"
   },
   "source": [
    "# Create the DL model"
   ]
  },
  {
   "cell_type": "code",
   "execution_count": 12,
   "metadata": {
    "id": "JK3OO3tAtZkA"
   },
   "outputs": [],
   "source": [
    "# create a class for the model\n",
    "def createTheMNISTAE():\n",
    "\n",
    "  class aenet(nn.Module):\n",
    "    def __init__(self):\n",
    "      super().__init__()\n",
    "\n",
    "      ### input layer\n",
    "      self.input = nn.Linear(784,128)\n",
    "      \n",
    "      ### encoder layer\n",
    "      self.enc = nn.Parameter(torch.randn(50,128))\n",
    "      # self.enc = nn.Linear(128,50) # not used! left here for comparison\n",
    "\n",
    "      ### latent layer (not used!)\n",
    "      #self.lat = nn.Linear(50,128)\n",
    "\n",
    "      ### decoder layer\n",
    "      self.dec = nn.Linear(128,784)\n",
    "\n",
    "    # forward pass\n",
    "    def forward(self,x):\n",
    "      # \"normal\" forward prop in first stage\n",
    "      x = F.relu( self.input(x) )\n",
    "\n",
    "      # a Parameter type is not a Linear type, so we implement the multiplication directly\n",
    "      x = x.t() # need to transpose the input matrix due to multisample input matrices\n",
    "      x = F.relu( self.enc@x )\n",
    "\n",
    "      # same for the decoding layer but reversed\n",
    "      x = F.relu( self.enc.t()@x )\n",
    "      x = x.t() # and then transpose it back\n",
    "\n",
    "      # \"normal\" final stage\n",
    "      y = torch.sigmoid( self.dec(x) )\n",
    "      return y\n",
    "  \n",
    "  # create the model instance\n",
    "  net = aenet()\n",
    "  \n",
    "  # loss function\n",
    "  lossfun = nn.MSELoss()\n",
    "\n",
    "  # optimizer\n",
    "  optimizer = torch.optim.Adam(net.parameters(),lr=.001)\n",
    "\n",
    "  return net,lossfun,optimizer"
   ]
  },
  {
   "cell_type": "code",
   "execution_count": 13,
   "metadata": {
    "id": "y6icEJcXp0el"
   },
   "outputs": [
    {
     "name": "stdout",
     "output_type": "stream",
     "text": [
      "torch.Size([5, 784])\n",
      "torch.Size([5, 784])\n"
     ]
    }
   ],
   "source": [
    "# test the model with a bit of data\n",
    "net,lossfun,optimizer = createTheMNISTAE()\n",
    "\n",
    "X = dataT[:5,:]\n",
    "yHat = net(X)\n",
    "\n",
    "print(X.shape)\n",
    "print(yHat.shape)"
   ]
  },
  {
   "cell_type": "markdown",
   "metadata": {
    "id": "dvfGQIRGp0ht"
   },
   "source": [
    "# Create a function that trains the model"
   ]
  },
  {
   "cell_type": "code",
   "execution_count": null,
   "metadata": {
    "id": "IblJo1NCp0kl"
   },
   "outputs": [],
   "source": [
    "def function2trainTheModel():\n",
    "\n",
    "  # number of epochs\n",
    "  numepochs = 10000\n",
    "  \n",
    "  # create a new model\n",
    "  net,lossfun,optimizer = createTheMNISTAE()\n",
    "\n",
    "  # initialize losses\n",
    "  losses = torch.zeros(numepochs)\n",
    "\n",
    "\n",
    "  # loop over epochs\n",
    "  for epochi in range(numepochs):\n",
    "\n",
    "    # select a random set of images\n",
    "    randomidx = np.random.choice(dataT.shape[0],size=32)\n",
    "    X = dataT[randomidx,:]\n",
    "\n",
    "    # forward pass and loss\n",
    "    yHat = net(X)\n",
    "    loss = lossfun(yHat,X)\n",
    "\n",
    "    # backprop\n",
    "    optimizer.zero_grad()\n",
    "    loss.backward()\n",
    "    optimizer.step()\n",
    "\n",
    "    # losses in this epoch\n",
    "    losses[epochi] = loss.item()\n",
    "  # end epochs\n",
    "\n",
    "  # function output\n",
    "  return losses,net"
   ]
  },
  {
   "cell_type": "markdown",
   "metadata": {
    "id": "XpGm9xdQ27Ob"
   },
   "source": [
    "# Run the model and show the results!"
   ]
  },
  {
   "cell_type": "code",
   "execution_count": null,
   "metadata": {
    "id": "l9pCC1R2p0nu"
   },
   "outputs": [],
   "source": [
    "# train the model\n",
    "losses,net = function2trainTheModel()\n",
    "print(f'Final loss: {losses[-1]:.4f}')\n",
    "\n",
    "# visualize the losses\n",
    "plt.plot(losses,'.-')\n",
    "plt.xlabel('Epochs')\n",
    "plt.ylabel('Model loss')\n",
    "plt.show()"
   ]
  },
  {
   "cell_type": "code",
   "execution_count": null,
   "metadata": {
    "id": "Vt2VXlYJX5Gj"
   },
   "outputs": [],
   "source": [
    "# Visualization of inputs and outputs\n",
    "X = dataT[:5,:]\n",
    "yHat = net(X)\n",
    "\n",
    "\n",
    "# let's see what the model did!\n",
    "fig,axs = plt.subplots(2,5,figsize=(10,3))\n",
    "\n",
    "for i in range(5):\n",
    "  axs[0,i].imshow(X[i,:].view(28,28).detach() ,cmap='gray')\n",
    "  axs[1,i].imshow(yHat[i,:].view(28,28).detach() ,cmap='gray')\n",
    "  axs[0,i].set_xticks([]), axs[0,i].set_yticks([])\n",
    "  axs[1,i].set_xticks([]), axs[1,i].set_yticks([])\n",
    "  \n",
    "plt.suptitle('Model output with tied layers')\n",
    "plt.show()"
   ]
  },
  {
   "cell_type": "markdown",
   "metadata": {
    "id": "pG7_3tYbp0wm"
   },
   "source": [
    "# Add noise to see a use case of an autoencoder"
   ]
  },
  {
   "cell_type": "code",
   "execution_count": null,
   "metadata": {
    "id": "qw56zhmj87WC"
   },
   "outputs": [],
   "source": [
    "# grab a small set of images\n",
    "X = dataT[:10,:]\n",
    "\n",
    "# add noise\n",
    "Xnoise = X + torch.rand_like(X)/4\n",
    "\n",
    "# clip at 1\n",
    "Xnoise[Xnoise>1] = 1\n",
    "\n",
    "\n",
    "# show the noisy images\n",
    "fig,axs = plt.subplots(2,5,figsize=(10,3))\n",
    "\n",
    "for i in range(5):\n",
    "  axs[0,i].imshow(X[i,:].view(28,28).detach() ,cmap='gray')\n",
    "  axs[1,i].imshow(Xnoise[i,:].view(28,28).detach() ,cmap='gray')\n",
    "  axs[0,i].set_xticks([]), axs[0,i].set_yticks([])\n",
    "  axs[1,i].set_xticks([]), axs[1,i].set_yticks([])\n",
    "  \n",
    "plt.show()"
   ]
  },
  {
   "cell_type": "code",
   "execution_count": null,
   "metadata": {
    "id": "DiCaItS8dCJ3"
   },
   "outputs": [],
   "source": [
    "# run through the model\n",
    "Y = net(Xnoise)\n",
    "\n",
    "\n",
    "# show the noisy images\n",
    "fig,axs = plt.subplots(3,10,figsize=(12,5))\n",
    "\n",
    "for i in range(10):\n",
    "  axs[0,i].imshow(X[i,:].view(28,28).detach() ,cmap='gray')\n",
    "  axs[1,i].imshow(Xnoise[i,:].view(28,28).detach() ,cmap='gray')\n",
    "  axs[2,i].imshow(Y[i,:].view(28,28).detach() ,cmap='gray')\n",
    "  axs[0,i].set_xticks([]), axs[0,i].set_yticks([])\n",
    "  axs[1,i].set_xticks([]), axs[1,i].set_yticks([])\n",
    "  axs[2,i].set_xticks([]), axs[2,i].set_yticks([])\n",
    "  \n",
    "plt.suptitle('Neato.')\n",
    "plt.show()"
   ]
  },
  {
   "cell_type": "code",
   "execution_count": null,
   "metadata": {
    "id": "9SnUUHPm7xQE"
   },
   "outputs": [],
   "source": []
  },
  {
   "cell_type": "markdown",
   "metadata": {
    "id": "Uh28k_l29urR"
   },
   "source": [
    "# Additional explorations"
   ]
  },
  {
   "cell_type": "code",
   "execution_count": null,
   "metadata": {
    "id": "ib3uQtfv9wE2"
   },
   "outputs": [],
   "source": [
    "# 1) The network we built here is not a truly mirrored network: We tied the encoder/decoder layers, but left the input\n",
    "#    and output layers separate. That's not wrong or bad or anything; it's just a choice. Modify the code to create\n",
    "#    a truly mirrored network, where all decoding layers are tied to their corresponding encoding layers.\n",
    "# \n",
    "# 2) You don't need to use nn.Parameter; you can still accomplish what we did by using nn.Linear and extracting the\n",
    "#    weights matrices. Rewrite the code to use nn.Linear instead of nn.Parameter.\n",
    "# "
   ]
  }
 ],
 "metadata": {
  "colab": {
   "authorship_tag": "ABX9TyObwVjiuqo74GGesEX7hu2L",
   "collapsed_sections": [],
   "name": "DUDL_autoenc_tiedWeights.ipynb",
   "provenance": [
    {
     "file_id": "19G9gTeBlYPQ-s3VS_3K2bVFtKTP344j6",
     "timestamp": 1619422100850
    },
    {
     "file_id": "1FcEBC0NAESIlHQkv6_85R-XDUKGE8XbM",
     "timestamp": 1619155961717
    },
    {
     "file_id": "1qKgZ8kVcqNgwtBzHbWq5yJH_HqI6DxWW",
     "timestamp": 1617803880910
    },
    {
     "file_id": "15cpyHkJ435B4MqbyGjAH1poN4nCy_DE4",
     "timestamp": 1617737766196
    },
    {
     "file_id": "1OLuWuaFu0hcFgkQ2hh5BqbRuqUZD7XcQ",
     "timestamp": 1617734878578
    },
    {
     "file_id": "1XvzVGJPTJifVh8OpZVB7ykLxyUqYwQ1j",
     "timestamp": 1617196833019
    },
    {
     "file_id": "1bv1_y32e3KEExFKKlPfC3rpw1JxmBr8H",
     "timestamp": 1617124341706
    },
    {
     "file_id": "1GMq8u7KyHB2AE7Teyls9gK1T01OduQSn",
     "timestamp": 1616697516760
    },
    {
     "file_id": "1Ui3kyHim-e0XLgDs2mkBxVlYg7TKYtcg",
     "timestamp": 1616615469755
    },
    {
     "file_id": "1YpHocGI4rApOxIBb1ZghCU5L-hFnv4CK",
     "timestamp": 1616608248670
    }
   ]
  },
  "kernelspec": {
   "display_name": "Python 3 (ipykernel)",
   "language": "python",
   "name": "python3"
  },
  "language_info": {
   "codemirror_mode": {
    "name": "ipython",
    "version": 3
   },
   "file_extension": ".py",
   "mimetype": "text/x-python",
   "name": "python",
   "nbconvert_exporter": "python",
   "pygments_lexer": "ipython3",
   "version": "3.8.13"
  }
 },
 "nbformat": 4,
 "nbformat_minor": 1
}
